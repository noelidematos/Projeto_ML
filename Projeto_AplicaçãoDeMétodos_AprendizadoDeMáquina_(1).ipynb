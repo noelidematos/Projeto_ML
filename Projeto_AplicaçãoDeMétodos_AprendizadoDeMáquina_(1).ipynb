{
  "nbformat": 4,
  "nbformat_minor": 0,
  "metadata": {
    "colab": {
      "provenance": [],
      "collapsed_sections": [
        "QmepKXK2whmX",
        "mzxiCdjCxTie"
      ],
      "include_colab_link": true
    },
    "kernelspec": {
      "name": "python3",
      "display_name": "Python 3"
    },
    "language_info": {
      "name": "python"
    }
  },
  "cells": [
    {
      "cell_type": "markdown",
      "metadata": {
        "id": "view-in-github",
        "colab_type": "text"
      },
      "source": [
        "<a href=\"https://colab.research.google.com/github/noelidematos/Projeto_ML/blob/main/Projeto_Aplica%C3%A7%C3%A3oDeM%C3%A9todos_AprendizadoDeM%C3%A1quina_(1).ipynb\" target=\"_parent\"><img src=\"https://colab.research.google.com/assets/colab-badge.svg\" alt=\"Open In Colab\"/></a>"
      ]
    },
    {
      "cell_type": "markdown",
      "source": [
        "# Projeto I - Aplicação de Métodos de Aprendizagem de Máquina - Etapa I"
      ],
      "metadata": {
        "id": "My19w69_wU1H"
      }
    },
    {
      "cell_type": "markdown",
      "source": [
        "## Descrição do Tema\n",
        "A Base de dados utilizada neste projeto foi a Breast_Cancer.csv.\n",
        "\n",
        "A base pode ser encontrada neste link: https://www.kaggle.com/datasets/reihanenamdari/breast-cancer?resource=download\n",
        "\n",
        "Nesta aplicação o método escolhido foi de aprendizado supervisionado, a categoria aplicada será de classificação, onde será avaliada a performance de três algoritmos. São eles: \n",
        "Gaussian Nb,\n",
        "RandomForest Classifier e\n",
        "Logistic Regression.\n",
        "\n",
        "Assim determinando qual deles terá melhor performance e acuracidade de previsão sobre o objetivo proposto."
      ],
      "metadata": {
        "id": "QmepKXK2whmX"
      }
    },
    {
      "cell_type": "markdown",
      "source": [
        "\n",
        ">## Objetivo\n",
        "\n",
        "\n",
        "Identificar se um paciente com câncer de mama irá sobreviver ou não a doença conforme as variáveis que serão examinadas através dos algoritmos de classificação."
      ],
      "metadata": {
        "id": "mzxiCdjCxTie"
      }
    },
    {
      "cell_type": "markdown",
      "source": [
        ">## Especificação Técnica\n",
        "\n",
        "A base de dados está no formato csv, sendo sua divisão em 16 colunas e 4024 linhas.\n",
        "\n",
        "<u>Descrição Inicial:</u>\n",
        "\n",
        "* **Tumor**: Usando o sistema TNM, o “T” mais uma letra ou número (0 a 4) é usado para descrever o tamanho e a localização do tumor. O tamanho do tumor é medido em centímetros (cm). Um centímetro é aproximadamente igual à largura de uma caneta ou lápis padrão;\n",
        "* **Nó**: O “N” no sistema de estadiamento TNM significa linfonodos. Esses pequenos órgãos em forma de feijão ajudam a combater infecções. Os linfonodos próximos de onde o câncer começou são chamados de linfonodos regionais;\n",
        "* **Metástase**: O “M” no sistema TNM descreve se o câncer se espalhou para outras partes do corpo, chamado de metástase. Isso não é mais considerado câncer em estágio inicial ou localmente avançado;\n",
        "* **Estágio**: Para saber o Estágio do tumor é feito uma combinação dos elementos \"T\", \"N\" e \"M\".\n",
        "* **Classificação histológica**: São classificações que descrevem o quão diferente a arquitetura do tecido tumoral está diferente do tecido mamário normal:\n",
        "  * **Grau 1 ou bem diferenciado (Pontuação 3, 4 ou 5)**: As células estão crescendo mais lentamente e se parecem mais com o tecido normal da mama.\n",
        "  * **Grau 2 ou moderadamente diferenciado (Pontuação 6 ou 7)**: Têm características entre os tipos 1 e 3.\n",
        "  * **Grau 3 ou pouco diferenciado (Pontuação 8 ou 9)**: As células não tem características normais e tendem a crescer e se disseminar de forma mais agressiva.\n",
        "  * **Indiferenciado**: alta taxa de agressividade, pois o tecido sofre uma mutação tão grande que perde as características da célula original.\n",
        "\n",
        "## Descrição das Features:\n",
        "\n",
        "* Idade: Idade do paciente;\n",
        "* Raça: Raça do paciente;\n",
        "* Estado Civil: Estado civil do paciente;\n",
        "* Estágio do Tumor: Há 4 estágios, sendo o T1 o menos agressivo;\n",
        "* Estágio do Nódulo: Há 3 estágios, sendo o N1 o menos agressivo;\n",
        "* Estágio do Câncer: IIA, IIB, IIIA, IIIC,IIIB, sendo o IIA o menos agressivo;\n",
        "* Diferenciar: É a Classificação histológica que é dividida em bem diferenciado, moderadamente diferenciado, pouco diferenciado e indiferenciado;\n",
        "* Grau: Há 3 graus do tumor, sendo o Grau 1 o tumor com crescimento mais lento;\n",
        "* Localização: Há duas divisões, a regional que é a região próxima onde o tumor começou e a distante que fica mais distante da origem do tumor; \n",
        "* Tamanho do tumor: O tamanho em milímitros (mm) do Tumor;\n",
        "* Status do Estrogênio: Positivo ou Negativo;\n",
        "* Status da Progesterona: Positivo ou Negativo;\n",
        "* Nó regional examidado: É a quantidade de Nós que foram examinados;\n",
        "* Nó Regional Positivo: É a quantidade de Nós que resultaram em positivo para o câncer;\n",
        "* Meses de Sobrevivência: É a quantidade (meses) de duração do tratamento desde a descoberta do câncer;\n",
        "* Status: Se o paciente após a finalização do tratamento ainda está vivo ou não.\n",
        "\n",
        "**Divisão da base de dados:** 70% Train e 30% Test\n",
        "\n",
        "**Tarefa de Aprendizado:** Classificação.\n",
        "\n",
        "**Modos de aprendizado:** Supervisionado.\n",
        "\n",
        "**Algoritmos Avaliados:** GaussianNB, RandomForestClassifier e Logistic Regression.\n",
        "\n",
        "**Métricas utilizadas:** Acurácia, Matriz Confusão(Precision, Recall e F1-Score) e Dummy Classifier.\n",
        "\n",
        ">## Métodos de Pré-processamento\n",
        "\n",
        "Remoção de informações duplicadas e/ou nulas, tradução para Português do nome das colunas para facilitar a compreensão e  transformação de dados categóricos em numéricos para aplicar alguns métodos de Machine Learning.\n",
        "\n",
        "\n"
      ],
      "metadata": {
        "id": "qaXloJXuxhBn"
      }
    },
    {
      "cell_type": "markdown",
      "source": [
        "# Projeto I - Aplicação de Métodos de Aprendizagem de Máquina - Etapa II"
      ],
      "metadata": {
        "id": "YDRhSKT2BMp5"
      }
    },
    {
      "cell_type": "markdown",
      "source": [
        ">## Pré-Processamento "
      ],
      "metadata": {
        "id": "kpghbETRBS9n"
      }
    },
    {
      "cell_type": "markdown",
      "source": [
        "Importação das bibliotecas que serão utilizados ao longo do projeto"
      ],
      "metadata": {
        "id": "sk-qy_XiBVgA"
      }
    },
    {
      "cell_type": "code",
      "source": [
        "from sklearn.dummy import DummyClassifier\n",
        "from sklearn.preprocessing import OrdinalEncoder\n",
        "from sklearn.linear_model import LogisticRegression\n",
        "from sklearn.model_selection import train_test_split\n",
        "from sklearn.ensemble import RandomForestClassifier\n",
        "from sklearn.naive_bayes import GaussianNB\n",
        "from sklearn import preprocessing\n",
        "from sklearn import metrics\n",
        "from sklearn.metrics import precision_score\n",
        "from sklearn.metrics import recall_score\n",
        "from sklearn.metrics import f1_score\n",
        "from sklearn.metrics import confusion_matrix\n",
        "import matplotlib.pyplot as plt\n",
        "import pandas as pd \n",
        "import numpy as np"
      ],
      "metadata": {
        "id": "kkeNwu98Bdge"
      },
      "execution_count": null,
      "outputs": []
    },
    {
      "cell_type": "markdown",
      "source": [
        "##Importando dados"
      ],
      "metadata": {
        "id": "PAdAblkSBlj9"
      }
    },
    {
      "cell_type": "markdown",
      "source": [
        "importando o dataset no formato \"csv\" e realizando a leitura através da biblioteca Pandas"
      ],
      "metadata": {
        "id": "lkZTDjuJgB8q"
      }
    },
    {
      "cell_type": "code",
      "source": [
        "df = pd.read_csv(\"Breast_Cancer.csv\")"
      ],
      "metadata": {
        "id": "-vy6zwFlBnjt"
      },
      "execution_count": null,
      "outputs": []
    },
    {
      "cell_type": "markdown",
      "source": [
        "## Visualização dos dados"
      ],
      "metadata": {
        "id": "ax4Q_KuyB4l8"
      }
    },
    {
      "cell_type": "code",
      "source": [
        "df.head(5)"
      ],
      "metadata": {
        "id": "B-2FlT8bBnve",
        "colab": {
          "base_uri": "https://localhost:8080/",
          "height": 372
        },
        "outputId": "bb47d3ba-c4d3-43a8-8700-c5a566e8314f"
      },
      "execution_count": null,
      "outputs": [
        {
          "output_type": "execute_result",
          "data": {
            "text/plain": [
              "   Age   Race Marital Status T Stage  N Stage 6th Stage  \\\n",
              "0   68  White        Married       T1      N1       IIA   \n",
              "1   50  White        Married       T2      N2      IIIA   \n",
              "2   58  White       Divorced       T3      N3      IIIC   \n",
              "3   58  White        Married       T1      N1       IIA   \n",
              "4   47  White        Married       T2      N1       IIB   \n",
              "\n",
              "               differentiate Grade   A Stage  Tumor Size Estrogen Status  \\\n",
              "0      Poorly differentiated     3  Regional           4        Positive   \n",
              "1  Moderately differentiated     2  Regional          35        Positive   \n",
              "2  Moderately differentiated     2  Regional          63        Positive   \n",
              "3      Poorly differentiated     3  Regional          18        Positive   \n",
              "4      Poorly differentiated     3  Regional          41        Positive   \n",
              "\n",
              "  Progesterone Status  Regional Node Examined  Reginol Node Positive  \\\n",
              "0            Positive                      24                      1   \n",
              "1            Positive                      14                      5   \n",
              "2            Positive                      14                      7   \n",
              "3            Positive                       2                      1   \n",
              "4            Positive                       3                      1   \n",
              "\n",
              "   Survival Months Status  \n",
              "0               60  Alive  \n",
              "1               62  Alive  \n",
              "2               75  Alive  \n",
              "3               84  Alive  \n",
              "4               50  Alive  "
            ],
            "text/html": [
              "\n",
              "  <div id=\"df-179ed6d2-9c2c-4464-b5dd-d776716fcd5c\">\n",
              "    <div class=\"colab-df-container\">\n",
              "      <div>\n",
              "<style scoped>\n",
              "    .dataframe tbody tr th:only-of-type {\n",
              "        vertical-align: middle;\n",
              "    }\n",
              "\n",
              "    .dataframe tbody tr th {\n",
              "        vertical-align: top;\n",
              "    }\n",
              "\n",
              "    .dataframe thead th {\n",
              "        text-align: right;\n",
              "    }\n",
              "</style>\n",
              "<table border=\"1\" class=\"dataframe\">\n",
              "  <thead>\n",
              "    <tr style=\"text-align: right;\">\n",
              "      <th></th>\n",
              "      <th>Age</th>\n",
              "      <th>Race</th>\n",
              "      <th>Marital Status</th>\n",
              "      <th>T Stage</th>\n",
              "      <th>N Stage</th>\n",
              "      <th>6th Stage</th>\n",
              "      <th>differentiate</th>\n",
              "      <th>Grade</th>\n",
              "      <th>A Stage</th>\n",
              "      <th>Tumor Size</th>\n",
              "      <th>Estrogen Status</th>\n",
              "      <th>Progesterone Status</th>\n",
              "      <th>Regional Node Examined</th>\n",
              "      <th>Reginol Node Positive</th>\n",
              "      <th>Survival Months</th>\n",
              "      <th>Status</th>\n",
              "    </tr>\n",
              "  </thead>\n",
              "  <tbody>\n",
              "    <tr>\n",
              "      <th>0</th>\n",
              "      <td>68</td>\n",
              "      <td>White</td>\n",
              "      <td>Married</td>\n",
              "      <td>T1</td>\n",
              "      <td>N1</td>\n",
              "      <td>IIA</td>\n",
              "      <td>Poorly differentiated</td>\n",
              "      <td>3</td>\n",
              "      <td>Regional</td>\n",
              "      <td>4</td>\n",
              "      <td>Positive</td>\n",
              "      <td>Positive</td>\n",
              "      <td>24</td>\n",
              "      <td>1</td>\n",
              "      <td>60</td>\n",
              "      <td>Alive</td>\n",
              "    </tr>\n",
              "    <tr>\n",
              "      <th>1</th>\n",
              "      <td>50</td>\n",
              "      <td>White</td>\n",
              "      <td>Married</td>\n",
              "      <td>T2</td>\n",
              "      <td>N2</td>\n",
              "      <td>IIIA</td>\n",
              "      <td>Moderately differentiated</td>\n",
              "      <td>2</td>\n",
              "      <td>Regional</td>\n",
              "      <td>35</td>\n",
              "      <td>Positive</td>\n",
              "      <td>Positive</td>\n",
              "      <td>14</td>\n",
              "      <td>5</td>\n",
              "      <td>62</td>\n",
              "      <td>Alive</td>\n",
              "    </tr>\n",
              "    <tr>\n",
              "      <th>2</th>\n",
              "      <td>58</td>\n",
              "      <td>White</td>\n",
              "      <td>Divorced</td>\n",
              "      <td>T3</td>\n",
              "      <td>N3</td>\n",
              "      <td>IIIC</td>\n",
              "      <td>Moderately differentiated</td>\n",
              "      <td>2</td>\n",
              "      <td>Regional</td>\n",
              "      <td>63</td>\n",
              "      <td>Positive</td>\n",
              "      <td>Positive</td>\n",
              "      <td>14</td>\n",
              "      <td>7</td>\n",
              "      <td>75</td>\n",
              "      <td>Alive</td>\n",
              "    </tr>\n",
              "    <tr>\n",
              "      <th>3</th>\n",
              "      <td>58</td>\n",
              "      <td>White</td>\n",
              "      <td>Married</td>\n",
              "      <td>T1</td>\n",
              "      <td>N1</td>\n",
              "      <td>IIA</td>\n",
              "      <td>Poorly differentiated</td>\n",
              "      <td>3</td>\n",
              "      <td>Regional</td>\n",
              "      <td>18</td>\n",
              "      <td>Positive</td>\n",
              "      <td>Positive</td>\n",
              "      <td>2</td>\n",
              "      <td>1</td>\n",
              "      <td>84</td>\n",
              "      <td>Alive</td>\n",
              "    </tr>\n",
              "    <tr>\n",
              "      <th>4</th>\n",
              "      <td>47</td>\n",
              "      <td>White</td>\n",
              "      <td>Married</td>\n",
              "      <td>T2</td>\n",
              "      <td>N1</td>\n",
              "      <td>IIB</td>\n",
              "      <td>Poorly differentiated</td>\n",
              "      <td>3</td>\n",
              "      <td>Regional</td>\n",
              "      <td>41</td>\n",
              "      <td>Positive</td>\n",
              "      <td>Positive</td>\n",
              "      <td>3</td>\n",
              "      <td>1</td>\n",
              "      <td>50</td>\n",
              "      <td>Alive</td>\n",
              "    </tr>\n",
              "  </tbody>\n",
              "</table>\n",
              "</div>\n",
              "      <button class=\"colab-df-convert\" onclick=\"convertToInteractive('df-179ed6d2-9c2c-4464-b5dd-d776716fcd5c')\"\n",
              "              title=\"Convert this dataframe to an interactive table.\"\n",
              "              style=\"display:none;\">\n",
              "        \n",
              "  <svg xmlns=\"http://www.w3.org/2000/svg\" height=\"24px\"viewBox=\"0 0 24 24\"\n",
              "       width=\"24px\">\n",
              "    <path d=\"M0 0h24v24H0V0z\" fill=\"none\"/>\n",
              "    <path d=\"M18.56 5.44l.94 2.06.94-2.06 2.06-.94-2.06-.94-.94-2.06-.94 2.06-2.06.94zm-11 1L8.5 8.5l.94-2.06 2.06-.94-2.06-.94L8.5 2.5l-.94 2.06-2.06.94zm10 10l.94 2.06.94-2.06 2.06-.94-2.06-.94-.94-2.06-.94 2.06-2.06.94z\"/><path d=\"M17.41 7.96l-1.37-1.37c-.4-.4-.92-.59-1.43-.59-.52 0-1.04.2-1.43.59L10.3 9.45l-7.72 7.72c-.78.78-.78 2.05 0 2.83L4 21.41c.39.39.9.59 1.41.59.51 0 1.02-.2 1.41-.59l7.78-7.78 2.81-2.81c.8-.78.8-2.07 0-2.86zM5.41 20L4 18.59l7.72-7.72 1.47 1.35L5.41 20z\"/>\n",
              "  </svg>\n",
              "      </button>\n",
              "      \n",
              "  <style>\n",
              "    .colab-df-container {\n",
              "      display:flex;\n",
              "      flex-wrap:wrap;\n",
              "      gap: 12px;\n",
              "    }\n",
              "\n",
              "    .colab-df-convert {\n",
              "      background-color: #E8F0FE;\n",
              "      border: none;\n",
              "      border-radius: 50%;\n",
              "      cursor: pointer;\n",
              "      display: none;\n",
              "      fill: #1967D2;\n",
              "      height: 32px;\n",
              "      padding: 0 0 0 0;\n",
              "      width: 32px;\n",
              "    }\n",
              "\n",
              "    .colab-df-convert:hover {\n",
              "      background-color: #E2EBFA;\n",
              "      box-shadow: 0px 1px 2px rgba(60, 64, 67, 0.3), 0px 1px 3px 1px rgba(60, 64, 67, 0.15);\n",
              "      fill: #174EA6;\n",
              "    }\n",
              "\n",
              "    [theme=dark] .colab-df-convert {\n",
              "      background-color: #3B4455;\n",
              "      fill: #D2E3FC;\n",
              "    }\n",
              "\n",
              "    [theme=dark] .colab-df-convert:hover {\n",
              "      background-color: #434B5C;\n",
              "      box-shadow: 0px 1px 3px 1px rgba(0, 0, 0, 0.15);\n",
              "      filter: drop-shadow(0px 1px 2px rgba(0, 0, 0, 0.3));\n",
              "      fill: #FFFFFF;\n",
              "    }\n",
              "  </style>\n",
              "\n",
              "      <script>\n",
              "        const buttonEl =\n",
              "          document.querySelector('#df-179ed6d2-9c2c-4464-b5dd-d776716fcd5c button.colab-df-convert');\n",
              "        buttonEl.style.display =\n",
              "          google.colab.kernel.accessAllowed ? 'block' : 'none';\n",
              "\n",
              "        async function convertToInteractive(key) {\n",
              "          const element = document.querySelector('#df-179ed6d2-9c2c-4464-b5dd-d776716fcd5c');\n",
              "          const dataTable =\n",
              "            await google.colab.kernel.invokeFunction('convertToInteractive',\n",
              "                                                     [key], {});\n",
              "          if (!dataTable) return;\n",
              "\n",
              "          const docLinkHtml = 'Like what you see? Visit the ' +\n",
              "            '<a target=\"_blank\" href=https://colab.research.google.com/notebooks/data_table.ipynb>data table notebook</a>'\n",
              "            + ' to learn more about interactive tables.';\n",
              "          element.innerHTML = '';\n",
              "          dataTable['output_type'] = 'display_data';\n",
              "          await google.colab.output.renderOutput(dataTable, element);\n",
              "          const docLink = document.createElement('div');\n",
              "          docLink.innerHTML = docLinkHtml;\n",
              "          element.appendChild(docLink);\n",
              "        }\n",
              "      </script>\n",
              "    </div>\n",
              "  </div>\n",
              "  "
            ]
          },
          "metadata": {},
          "execution_count": 10
        }
      ]
    },
    {
      "cell_type": "markdown",
      "source": [
        "## Traduzindo o nome das colunas"
      ],
      "metadata": {
        "id": "2ESbrAL5B3zU"
      }
    },
    {
      "cell_type": "markdown",
      "source": [
        "O nome das colunas foi modificado através de uma nova variável que será aplicada no dataset original. O intuito é facilitar o entendimento."
      ],
      "metadata": {
        "id": "nNSIBYCIgjx-"
      }
    },
    {
      "cell_type": "code",
      "source": [
        "colunas = {\n",
        "    \"Age\":\"Idade\",                     \n",
        "   \"Race\":\"Raca\",                   \n",
        "   \"Marital Status\":\"Estado Civil\",    \n",
        "   \"T Stage \":\"Estagio do Tumor\",                \n",
        "   \"N Stage\":\"Estagio do Nodulo\",               \n",
        "   \"6th Stage\": \"Estagio do cancer\",            \n",
        "   \"differentiate\": \"Diferenciar\",        \n",
        "   \"Grade\":\"Grau\",                   \n",
        "   \"A Stage\" : \"Localizacao\",               \n",
        "   \"Tumor Size\":\"Tamanho do tumor\",            \n",
        "  \"Estrogen Status\" :\"Status do Estrogenio\",         \n",
        "  \"Progesterone Status\":\"Status da Progesterona\",   \n",
        "  \"Regional Node Examined\":\"No regional examidado\",\n",
        "  \"Reginol Node Positive\" : \"No Reginoal Positivo\",\n",
        "  \"Survival Months\": \"Meses de Sobrevivencia\",\n",
        "  \"Status\":\"Status\" \n",
        " }"
      ],
      "metadata": {
        "id": "r7wLHv8_BoAu"
      },
      "execution_count": null,
      "outputs": []
    },
    {
      "cell_type": "markdown",
      "source": [
        "Renomeando as colunas com nova definição"
      ],
      "metadata": {
        "id": "Oaw6DtwjhFXt"
      }
    },
    {
      "cell_type": "code",
      "source": [
        "df = df.rename(columns = colunas)"
      ],
      "metadata": {
        "id": "OLp-I31pDYcE"
      },
      "execution_count": null,
      "outputs": []
    },
    {
      "cell_type": "markdown",
      "source": [
        "Visualizando se a modificação foi aplicada"
      ],
      "metadata": {
        "id": "COfwdN6MhOzE"
      }
    },
    {
      "cell_type": "code",
      "source": [
        "df.head(3)"
      ],
      "metadata": {
        "colab": {
          "base_uri": "https://localhost:8080/",
          "height": 274
        },
        "id": "zm5oEjU9DZOK",
        "outputId": "f59db9ca-9ff3-4138-a658-6a8b9a1ce7f0"
      },
      "execution_count": null,
      "outputs": [
        {
          "output_type": "execute_result",
          "data": {
            "text/plain": [
              "   Idade   Raca Estado Civil Estagio do Tumor Estagio do Nodulo  \\\n",
              "0     68  White      Married               T1                N1   \n",
              "1     50  White      Married               T2                N2   \n",
              "2     58  White     Divorced               T3                N3   \n",
              "\n",
              "  Estagio do cancer                Diferenciar Grau Localizacao  \\\n",
              "0               IIA      Poorly differentiated    3    Regional   \n",
              "1              IIIA  Moderately differentiated    2    Regional   \n",
              "2              IIIC  Moderately differentiated    2    Regional   \n",
              "\n",
              "   Tamanho do tumor Status do Estrogenio Status da Progesterona  \\\n",
              "0                 4             Positive               Positive   \n",
              "1                35             Positive               Positive   \n",
              "2                63             Positive               Positive   \n",
              "\n",
              "   No regional examidado  No Reginoal Positivo  Meses de Sobrevivencia Status  \n",
              "0                     24                     1                      60  Alive  \n",
              "1                     14                     5                      62  Alive  \n",
              "2                     14                     7                      75  Alive  "
            ],
            "text/html": [
              "\n",
              "  <div id=\"df-2430a584-28ea-42e9-a382-654fe9bb7b6c\">\n",
              "    <div class=\"colab-df-container\">\n",
              "      <div>\n",
              "<style scoped>\n",
              "    .dataframe tbody tr th:only-of-type {\n",
              "        vertical-align: middle;\n",
              "    }\n",
              "\n",
              "    .dataframe tbody tr th {\n",
              "        vertical-align: top;\n",
              "    }\n",
              "\n",
              "    .dataframe thead th {\n",
              "        text-align: right;\n",
              "    }\n",
              "</style>\n",
              "<table border=\"1\" class=\"dataframe\">\n",
              "  <thead>\n",
              "    <tr style=\"text-align: right;\">\n",
              "      <th></th>\n",
              "      <th>Idade</th>\n",
              "      <th>Raca</th>\n",
              "      <th>Estado Civil</th>\n",
              "      <th>Estagio do Tumor</th>\n",
              "      <th>Estagio do Nodulo</th>\n",
              "      <th>Estagio do cancer</th>\n",
              "      <th>Diferenciar</th>\n",
              "      <th>Grau</th>\n",
              "      <th>Localizacao</th>\n",
              "      <th>Tamanho do tumor</th>\n",
              "      <th>Status do Estrogenio</th>\n",
              "      <th>Status da Progesterona</th>\n",
              "      <th>No regional examidado</th>\n",
              "      <th>No Reginoal Positivo</th>\n",
              "      <th>Meses de Sobrevivencia</th>\n",
              "      <th>Status</th>\n",
              "    </tr>\n",
              "  </thead>\n",
              "  <tbody>\n",
              "    <tr>\n",
              "      <th>0</th>\n",
              "      <td>68</td>\n",
              "      <td>White</td>\n",
              "      <td>Married</td>\n",
              "      <td>T1</td>\n",
              "      <td>N1</td>\n",
              "      <td>IIA</td>\n",
              "      <td>Poorly differentiated</td>\n",
              "      <td>3</td>\n",
              "      <td>Regional</td>\n",
              "      <td>4</td>\n",
              "      <td>Positive</td>\n",
              "      <td>Positive</td>\n",
              "      <td>24</td>\n",
              "      <td>1</td>\n",
              "      <td>60</td>\n",
              "      <td>Alive</td>\n",
              "    </tr>\n",
              "    <tr>\n",
              "      <th>1</th>\n",
              "      <td>50</td>\n",
              "      <td>White</td>\n",
              "      <td>Married</td>\n",
              "      <td>T2</td>\n",
              "      <td>N2</td>\n",
              "      <td>IIIA</td>\n",
              "      <td>Moderately differentiated</td>\n",
              "      <td>2</td>\n",
              "      <td>Regional</td>\n",
              "      <td>35</td>\n",
              "      <td>Positive</td>\n",
              "      <td>Positive</td>\n",
              "      <td>14</td>\n",
              "      <td>5</td>\n",
              "      <td>62</td>\n",
              "      <td>Alive</td>\n",
              "    </tr>\n",
              "    <tr>\n",
              "      <th>2</th>\n",
              "      <td>58</td>\n",
              "      <td>White</td>\n",
              "      <td>Divorced</td>\n",
              "      <td>T3</td>\n",
              "      <td>N3</td>\n",
              "      <td>IIIC</td>\n",
              "      <td>Moderately differentiated</td>\n",
              "      <td>2</td>\n",
              "      <td>Regional</td>\n",
              "      <td>63</td>\n",
              "      <td>Positive</td>\n",
              "      <td>Positive</td>\n",
              "      <td>14</td>\n",
              "      <td>7</td>\n",
              "      <td>75</td>\n",
              "      <td>Alive</td>\n",
              "    </tr>\n",
              "  </tbody>\n",
              "</table>\n",
              "</div>\n",
              "      <button class=\"colab-df-convert\" onclick=\"convertToInteractive('df-2430a584-28ea-42e9-a382-654fe9bb7b6c')\"\n",
              "              title=\"Convert this dataframe to an interactive table.\"\n",
              "              style=\"display:none;\">\n",
              "        \n",
              "  <svg xmlns=\"http://www.w3.org/2000/svg\" height=\"24px\"viewBox=\"0 0 24 24\"\n",
              "       width=\"24px\">\n",
              "    <path d=\"M0 0h24v24H0V0z\" fill=\"none\"/>\n",
              "    <path d=\"M18.56 5.44l.94 2.06.94-2.06 2.06-.94-2.06-.94-.94-2.06-.94 2.06-2.06.94zm-11 1L8.5 8.5l.94-2.06 2.06-.94-2.06-.94L8.5 2.5l-.94 2.06-2.06.94zm10 10l.94 2.06.94-2.06 2.06-.94-2.06-.94-.94-2.06-.94 2.06-2.06.94z\"/><path d=\"M17.41 7.96l-1.37-1.37c-.4-.4-.92-.59-1.43-.59-.52 0-1.04.2-1.43.59L10.3 9.45l-7.72 7.72c-.78.78-.78 2.05 0 2.83L4 21.41c.39.39.9.59 1.41.59.51 0 1.02-.2 1.41-.59l7.78-7.78 2.81-2.81c.8-.78.8-2.07 0-2.86zM5.41 20L4 18.59l7.72-7.72 1.47 1.35L5.41 20z\"/>\n",
              "  </svg>\n",
              "      </button>\n",
              "      \n",
              "  <style>\n",
              "    .colab-df-container {\n",
              "      display:flex;\n",
              "      flex-wrap:wrap;\n",
              "      gap: 12px;\n",
              "    }\n",
              "\n",
              "    .colab-df-convert {\n",
              "      background-color: #E8F0FE;\n",
              "      border: none;\n",
              "      border-radius: 50%;\n",
              "      cursor: pointer;\n",
              "      display: none;\n",
              "      fill: #1967D2;\n",
              "      height: 32px;\n",
              "      padding: 0 0 0 0;\n",
              "      width: 32px;\n",
              "    }\n",
              "\n",
              "    .colab-df-convert:hover {\n",
              "      background-color: #E2EBFA;\n",
              "      box-shadow: 0px 1px 2px rgba(60, 64, 67, 0.3), 0px 1px 3px 1px rgba(60, 64, 67, 0.15);\n",
              "      fill: #174EA6;\n",
              "    }\n",
              "\n",
              "    [theme=dark] .colab-df-convert {\n",
              "      background-color: #3B4455;\n",
              "      fill: #D2E3FC;\n",
              "    }\n",
              "\n",
              "    [theme=dark] .colab-df-convert:hover {\n",
              "      background-color: #434B5C;\n",
              "      box-shadow: 0px 1px 3px 1px rgba(0, 0, 0, 0.15);\n",
              "      filter: drop-shadow(0px 1px 2px rgba(0, 0, 0, 0.3));\n",
              "      fill: #FFFFFF;\n",
              "    }\n",
              "  </style>\n",
              "\n",
              "      <script>\n",
              "        const buttonEl =\n",
              "          document.querySelector('#df-2430a584-28ea-42e9-a382-654fe9bb7b6c button.colab-df-convert');\n",
              "        buttonEl.style.display =\n",
              "          google.colab.kernel.accessAllowed ? 'block' : 'none';\n",
              "\n",
              "        async function convertToInteractive(key) {\n",
              "          const element = document.querySelector('#df-2430a584-28ea-42e9-a382-654fe9bb7b6c');\n",
              "          const dataTable =\n",
              "            await google.colab.kernel.invokeFunction('convertToInteractive',\n",
              "                                                     [key], {});\n",
              "          if (!dataTable) return;\n",
              "\n",
              "          const docLinkHtml = 'Like what you see? Visit the ' +\n",
              "            '<a target=\"_blank\" href=https://colab.research.google.com/notebooks/data_table.ipynb>data table notebook</a>'\n",
              "            + ' to learn more about interactive tables.';\n",
              "          element.innerHTML = '';\n",
              "          dataTable['output_type'] = 'display_data';\n",
              "          await google.colab.output.renderOutput(dataTable, element);\n",
              "          const docLink = document.createElement('div');\n",
              "          docLink.innerHTML = docLinkHtml;\n",
              "          element.appendChild(docLink);\n",
              "        }\n",
              "      </script>\n",
              "    </div>\n",
              "  </div>\n",
              "  "
            ]
          },
          "metadata": {},
          "execution_count": 13
        }
      ]
    },
    {
      "cell_type": "markdown",
      "source": [
        "## Fazendo o processamento dos dados :\n",
        "\n",
        "Neste momento vamos usar a biblioteca do scikit-learn OrdinalEncoder,\n",
        "basicamente ela transfoma os dados em numeros para podermos melhor trabalhar os\n",
        "dados com as bilbliotecas de machine learning "
      ],
      "metadata": {
        "id": "TIqnkxl0Dlch"
      }
    },
    {
      "cell_type": "code",
      "source": [
        "encoder = OrdinalEncoder()"
      ],
      "metadata": {
        "id": "D_NmtR2WDZYA"
      },
      "execution_count": null,
      "outputs": []
    },
    {
      "cell_type": "code",
      "source": [
        "df1= encoder.fit_transform(df)"
      ],
      "metadata": {
        "id": "G5Or14fNDZeB"
      },
      "execution_count": null,
      "outputs": []
    },
    {
      "cell_type": "markdown",
      "source": [
        "## Criando um dataframe novo"
      ],
      "metadata": {
        "id": "90B9zai7DthD"
      }
    },
    {
      "cell_type": "code",
      "source": [
        "df_new = pd.DataFrame(df1, columns=df.columns) "
      ],
      "metadata": {
        "id": "jFNDEinWDr1K"
      },
      "execution_count": null,
      "outputs": []
    },
    {
      "cell_type": "markdown",
      "source": [
        "Verificando se os dados foram normalizados"
      ],
      "metadata": {
        "id": "DaTd2mUHiIp_"
      }
    },
    {
      "cell_type": "code",
      "source": [
        "df_new.head(3)"
      ],
      "metadata": {
        "colab": {
          "base_uri": "https://localhost:8080/",
          "height": 222
        },
        "id": "vtSud2aMECu6",
        "outputId": "ed2b90b6-18f4-4cae-f4aa-ec204ad02245"
      },
      "execution_count": null,
      "outputs": [
        {
          "output_type": "execute_result",
          "data": {
            "text/plain": [
              "   Idade  Raca  Estado Civil  Estagio do Tumor  Estagio do Nodulo  \\\n",
              "0   38.0   2.0           1.0               0.0                0.0   \n",
              "1   20.0   2.0           1.0               1.0                1.0   \n",
              "2   28.0   2.0           0.0               2.0                2.0   \n",
              "\n",
              "   Estagio do cancer  Diferenciar  Grau  Localizacao  Tamanho do tumor  \\\n",
              "0                0.0          1.0   3.0          1.0               3.0   \n",
              "1                2.0          0.0   2.0          1.0              34.0   \n",
              "2                4.0          0.0   2.0          1.0              62.0   \n",
              "\n",
              "   Status do Estrogenio  Status da Progesterona  No regional examidado  \\\n",
              "0                   1.0                     1.0                   23.0   \n",
              "1                   1.0                     1.0                   13.0   \n",
              "2                   1.0                     1.0                   13.0   \n",
              "\n",
              "   No Reginoal Positivo  Meses de Sobrevivencia  Status  \n",
              "0                   0.0                    59.0     0.0  \n",
              "1                   4.0                    61.0     0.0  \n",
              "2                   6.0                    74.0     0.0  "
            ],
            "text/html": [
              "\n",
              "  <div id=\"df-668aa5d2-c34e-43db-9391-5b780694bff6\">\n",
              "    <div class=\"colab-df-container\">\n",
              "      <div>\n",
              "<style scoped>\n",
              "    .dataframe tbody tr th:only-of-type {\n",
              "        vertical-align: middle;\n",
              "    }\n",
              "\n",
              "    .dataframe tbody tr th {\n",
              "        vertical-align: top;\n",
              "    }\n",
              "\n",
              "    .dataframe thead th {\n",
              "        text-align: right;\n",
              "    }\n",
              "</style>\n",
              "<table border=\"1\" class=\"dataframe\">\n",
              "  <thead>\n",
              "    <tr style=\"text-align: right;\">\n",
              "      <th></th>\n",
              "      <th>Idade</th>\n",
              "      <th>Raca</th>\n",
              "      <th>Estado Civil</th>\n",
              "      <th>Estagio do Tumor</th>\n",
              "      <th>Estagio do Nodulo</th>\n",
              "      <th>Estagio do cancer</th>\n",
              "      <th>Diferenciar</th>\n",
              "      <th>Grau</th>\n",
              "      <th>Localizacao</th>\n",
              "      <th>Tamanho do tumor</th>\n",
              "      <th>Status do Estrogenio</th>\n",
              "      <th>Status da Progesterona</th>\n",
              "      <th>No regional examidado</th>\n",
              "      <th>No Reginoal Positivo</th>\n",
              "      <th>Meses de Sobrevivencia</th>\n",
              "      <th>Status</th>\n",
              "    </tr>\n",
              "  </thead>\n",
              "  <tbody>\n",
              "    <tr>\n",
              "      <th>0</th>\n",
              "      <td>38.0</td>\n",
              "      <td>2.0</td>\n",
              "      <td>1.0</td>\n",
              "      <td>0.0</td>\n",
              "      <td>0.0</td>\n",
              "      <td>0.0</td>\n",
              "      <td>1.0</td>\n",
              "      <td>3.0</td>\n",
              "      <td>1.0</td>\n",
              "      <td>3.0</td>\n",
              "      <td>1.0</td>\n",
              "      <td>1.0</td>\n",
              "      <td>23.0</td>\n",
              "      <td>0.0</td>\n",
              "      <td>59.0</td>\n",
              "      <td>0.0</td>\n",
              "    </tr>\n",
              "    <tr>\n",
              "      <th>1</th>\n",
              "      <td>20.0</td>\n",
              "      <td>2.0</td>\n",
              "      <td>1.0</td>\n",
              "      <td>1.0</td>\n",
              "      <td>1.0</td>\n",
              "      <td>2.0</td>\n",
              "      <td>0.0</td>\n",
              "      <td>2.0</td>\n",
              "      <td>1.0</td>\n",
              "      <td>34.0</td>\n",
              "      <td>1.0</td>\n",
              "      <td>1.0</td>\n",
              "      <td>13.0</td>\n",
              "      <td>4.0</td>\n",
              "      <td>61.0</td>\n",
              "      <td>0.0</td>\n",
              "    </tr>\n",
              "    <tr>\n",
              "      <th>2</th>\n",
              "      <td>28.0</td>\n",
              "      <td>2.0</td>\n",
              "      <td>0.0</td>\n",
              "      <td>2.0</td>\n",
              "      <td>2.0</td>\n",
              "      <td>4.0</td>\n",
              "      <td>0.0</td>\n",
              "      <td>2.0</td>\n",
              "      <td>1.0</td>\n",
              "      <td>62.0</td>\n",
              "      <td>1.0</td>\n",
              "      <td>1.0</td>\n",
              "      <td>13.0</td>\n",
              "      <td>6.0</td>\n",
              "      <td>74.0</td>\n",
              "      <td>0.0</td>\n",
              "    </tr>\n",
              "  </tbody>\n",
              "</table>\n",
              "</div>\n",
              "      <button class=\"colab-df-convert\" onclick=\"convertToInteractive('df-668aa5d2-c34e-43db-9391-5b780694bff6')\"\n",
              "              title=\"Convert this dataframe to an interactive table.\"\n",
              "              style=\"display:none;\">\n",
              "        \n",
              "  <svg xmlns=\"http://www.w3.org/2000/svg\" height=\"24px\"viewBox=\"0 0 24 24\"\n",
              "       width=\"24px\">\n",
              "    <path d=\"M0 0h24v24H0V0z\" fill=\"none\"/>\n",
              "    <path d=\"M18.56 5.44l.94 2.06.94-2.06 2.06-.94-2.06-.94-.94-2.06-.94 2.06-2.06.94zm-11 1L8.5 8.5l.94-2.06 2.06-.94-2.06-.94L8.5 2.5l-.94 2.06-2.06.94zm10 10l.94 2.06.94-2.06 2.06-.94-2.06-.94-.94-2.06-.94 2.06-2.06.94z\"/><path d=\"M17.41 7.96l-1.37-1.37c-.4-.4-.92-.59-1.43-.59-.52 0-1.04.2-1.43.59L10.3 9.45l-7.72 7.72c-.78.78-.78 2.05 0 2.83L4 21.41c.39.39.9.59 1.41.59.51 0 1.02-.2 1.41-.59l7.78-7.78 2.81-2.81c.8-.78.8-2.07 0-2.86zM5.41 20L4 18.59l7.72-7.72 1.47 1.35L5.41 20z\"/>\n",
              "  </svg>\n",
              "      </button>\n",
              "      \n",
              "  <style>\n",
              "    .colab-df-container {\n",
              "      display:flex;\n",
              "      flex-wrap:wrap;\n",
              "      gap: 12px;\n",
              "    }\n",
              "\n",
              "    .colab-df-convert {\n",
              "      background-color: #E8F0FE;\n",
              "      border: none;\n",
              "      border-radius: 50%;\n",
              "      cursor: pointer;\n",
              "      display: none;\n",
              "      fill: #1967D2;\n",
              "      height: 32px;\n",
              "      padding: 0 0 0 0;\n",
              "      width: 32px;\n",
              "    }\n",
              "\n",
              "    .colab-df-convert:hover {\n",
              "      background-color: #E2EBFA;\n",
              "      box-shadow: 0px 1px 2px rgba(60, 64, 67, 0.3), 0px 1px 3px 1px rgba(60, 64, 67, 0.15);\n",
              "      fill: #174EA6;\n",
              "    }\n",
              "\n",
              "    [theme=dark] .colab-df-convert {\n",
              "      background-color: #3B4455;\n",
              "      fill: #D2E3FC;\n",
              "    }\n",
              "\n",
              "    [theme=dark] .colab-df-convert:hover {\n",
              "      background-color: #434B5C;\n",
              "      box-shadow: 0px 1px 3px 1px rgba(0, 0, 0, 0.15);\n",
              "      filter: drop-shadow(0px 1px 2px rgba(0, 0, 0, 0.3));\n",
              "      fill: #FFFFFF;\n",
              "    }\n",
              "  </style>\n",
              "\n",
              "      <script>\n",
              "        const buttonEl =\n",
              "          document.querySelector('#df-668aa5d2-c34e-43db-9391-5b780694bff6 button.colab-df-convert');\n",
              "        buttonEl.style.display =\n",
              "          google.colab.kernel.accessAllowed ? 'block' : 'none';\n",
              "\n",
              "        async function convertToInteractive(key) {\n",
              "          const element = document.querySelector('#df-668aa5d2-c34e-43db-9391-5b780694bff6');\n",
              "          const dataTable =\n",
              "            await google.colab.kernel.invokeFunction('convertToInteractive',\n",
              "                                                     [key], {});\n",
              "          if (!dataTable) return;\n",
              "\n",
              "          const docLinkHtml = 'Like what you see? Visit the ' +\n",
              "            '<a target=\"_blank\" href=https://colab.research.google.com/notebooks/data_table.ipynb>data table notebook</a>'\n",
              "            + ' to learn more about interactive tables.';\n",
              "          element.innerHTML = '';\n",
              "          dataTable['output_type'] = 'display_data';\n",
              "          await google.colab.output.renderOutput(dataTable, element);\n",
              "          const docLink = document.createElement('div');\n",
              "          docLink.innerHTML = docLinkHtml;\n",
              "          element.appendChild(docLink);\n",
              "        }\n",
              "      </script>\n",
              "    </div>\n",
              "  </div>\n",
              "  "
            ]
          },
          "metadata": {},
          "execution_count": 17
        }
      ]
    },
    {
      "cell_type": "code",
      "source": [
        "df_new.info()"
      ],
      "metadata": {
        "colab": {
          "base_uri": "https://localhost:8080/"
        },
        "id": "IEpqQTTEE5Oo",
        "outputId": "1f3eb4f1-53f0-4b68-d076-9f3b808b7cfb"
      },
      "execution_count": null,
      "outputs": [
        {
          "output_type": "stream",
          "name": "stdout",
          "text": [
            "<class 'pandas.core.frame.DataFrame'>\n",
            "RangeIndex: 4024 entries, 0 to 4023\n",
            "Data columns (total 16 columns):\n",
            " #   Column                  Non-Null Count  Dtype  \n",
            "---  ------                  --------------  -----  \n",
            " 0   Idade                   4024 non-null   float64\n",
            " 1   Raca                    4024 non-null   float64\n",
            " 2   Estado Civil            4024 non-null   float64\n",
            " 3   Estagio do Tumor        4024 non-null   float64\n",
            " 4   Estagio do Nodulo       4024 non-null   float64\n",
            " 5   Estagio do cancer       4024 non-null   float64\n",
            " 6   Diferenciar             4024 non-null   float64\n",
            " 7   Grau                    4024 non-null   float64\n",
            " 8   Localizacao             4024 non-null   float64\n",
            " 9   Tamanho do tumor        4024 non-null   float64\n",
            " 10  Status do Estrogenio    4024 non-null   float64\n",
            " 11  Status da Progesterona  4024 non-null   float64\n",
            " 12  No regional examidado   4024 non-null   float64\n",
            " 13  No Reginoal Positivo    4024 non-null   float64\n",
            " 14  Meses de Sobrevivencia  4024 non-null   float64\n",
            " 15  Status                  4024 non-null   float64\n",
            "dtypes: float64(16)\n",
            "memory usage: 503.1 KB\n"
          ]
        }
      ]
    },
    {
      "cell_type": "markdown",
      "source": [
        "## Excluindo dados duplicados"
      ],
      "metadata": {
        "id": "oZ-F8TM2EsOR"
      }
    },
    {
      "cell_type": "markdown",
      "source": [
        "Excluindo dados duplicados"
      ],
      "metadata": {
        "id": "59IwzjMyiRjK"
      }
    },
    {
      "cell_type": "code",
      "source": [
        "df_novo= df_new.drop_duplicates()"
      ],
      "metadata": {
        "id": "hGBghr_9EpGT"
      },
      "execution_count": null,
      "outputs": []
    },
    {
      "cell_type": "markdown",
      "source": [
        "Verificando o tamanho do dataset(linhas x colunas) após a deleção dos dados duplicados"
      ],
      "metadata": {
        "id": "U_zwA9Bzj_pP"
      }
    },
    {
      "cell_type": "code",
      "source": [
        "df_novo.shape"
      ],
      "metadata": {
        "colab": {
          "base_uri": "https://localhost:8080/"
        },
        "id": "ybVfNvSdF3pp",
        "outputId": "964bde1e-4f79-4a86-84d5-2693f6e9cd58"
      },
      "execution_count": null,
      "outputs": [
        {
          "output_type": "execute_result",
          "data": {
            "text/plain": [
              "(4023, 16)"
            ]
          },
          "metadata": {},
          "execution_count": 20
        }
      ]
    },
    {
      "cell_type": "markdown",
      "source": [
        "Verificando se há dados nulos na base de dados"
      ],
      "metadata": {
        "id": "5mf1kR3HjhxO"
      }
    },
    {
      "cell_type": "code",
      "source": [
        "df_novo.isna().sum()"
      ],
      "metadata": {
        "colab": {
          "base_uri": "https://localhost:8080/"
        },
        "id": "6FGxeYevjG7_",
        "outputId": "d0c4e554-ab63-4328-9e23-3b189c4c60ea"
      },
      "execution_count": null,
      "outputs": [
        {
          "output_type": "execute_result",
          "data": {
            "text/plain": [
              "Idade                     0\n",
              "Raca                      0\n",
              "Estado Civil              0\n",
              "Estagio do Tumor          0\n",
              "Estagio do Nodulo         0\n",
              "Estagio do cancer         0\n",
              "Diferenciar               0\n",
              "Grau                      0\n",
              "Localizacao               0\n",
              "Tamanho do tumor          0\n",
              "Status do Estrogenio      0\n",
              "Status da Progesterona    0\n",
              "No regional examidado     0\n",
              "No Reginoal Positivo      0\n",
              "Meses de Sobrevivencia    0\n",
              "Status                    0\n",
              "dtype: int64"
            ]
          },
          "metadata": {},
          "execution_count": 21
        }
      ]
    },
    {
      "cell_type": "markdown",
      "source": [
        "# Particionamento dos dados"
      ],
      "metadata": {
        "id": "VcqbE6KvkPks"
      }
    },
    {
      "cell_type": "markdown",
      "source": [
        "Iremos utilizar toda a base de dados para realizar os testes, e quanto a partição será realizada em train/test"
      ],
      "metadata": {
        "id": "gEnOLM8vkYnz"
      }
    },
    {
      "cell_type": "markdown",
      "source": [
        "Separando os atributos de entrada(x) do rótulo/saída (y)"
      ],
      "metadata": {
        "id": "6LClme9tksKT"
      }
    },
    {
      "cell_type": "code",
      "source": [
        "x = df_novo.drop(columns='Status')\n",
        "y = df_novo['Status']"
      ],
      "metadata": {
        "id": "Ez1UoYa9jucV"
      },
      "execution_count": null,
      "outputs": []
    },
    {
      "cell_type": "markdown",
      "source": [
        "Separando a base de dados para teste e treino. Para tanto foi definido 30% para teste e 70% para treino"
      ],
      "metadata": {
        "id": "w2GYCiLMl0b_"
      }
    },
    {
      "cell_type": "code",
      "source": [
        "x_train,x_test,y_train,y_test =train_test_split(x, y , test_size = 0.3 , random_state =157)"
      ],
      "metadata": {
        "id": "6L_b9Ah0jui8"
      },
      "execution_count": null,
      "outputs": []
    },
    {
      "cell_type": "markdown",
      "source": [
        "Confirmando se a separação foi realizada"
      ],
      "metadata": {
        "id": "DWtwFGiKmL2X"
      }
    },
    {
      "cell_type": "code",
      "source": [
        "x.head()"
      ],
      "metadata": {
        "colab": {
          "base_uri": "https://localhost:8080/",
          "height": 285
        },
        "id": "RbYevYwWmEiQ",
        "outputId": "a22b06b4-4058-441e-99fc-6e5f6b8cbd46"
      },
      "execution_count": null,
      "outputs": [
        {
          "output_type": "execute_result",
          "data": {
            "text/plain": [
              "   Idade  Raca  Estado Civil  Estagio do Tumor  Estagio do Nodulo  \\\n",
              "0   38.0   2.0           1.0               0.0                0.0   \n",
              "1   20.0   2.0           1.0               1.0                1.0   \n",
              "2   28.0   2.0           0.0               2.0                2.0   \n",
              "3   28.0   2.0           1.0               0.0                0.0   \n",
              "4   17.0   2.0           1.0               1.0                0.0   \n",
              "\n",
              "   Estagio do cancer  Diferenciar  Grau  Localizacao  Tamanho do tumor  \\\n",
              "0                0.0          1.0   3.0          1.0               3.0   \n",
              "1                2.0          0.0   2.0          1.0              34.0   \n",
              "2                4.0          0.0   2.0          1.0              62.0   \n",
              "3                0.0          1.0   3.0          1.0              17.0   \n",
              "4                1.0          1.0   3.0          1.0              40.0   \n",
              "\n",
              "   Status do Estrogenio  Status da Progesterona  No regional examidado  \\\n",
              "0                   1.0                     1.0                   23.0   \n",
              "1                   1.0                     1.0                   13.0   \n",
              "2                   1.0                     1.0                   13.0   \n",
              "3                   1.0                     1.0                    1.0   \n",
              "4                   1.0                     1.0                    2.0   \n",
              "\n",
              "   No Reginoal Positivo  Meses de Sobrevivencia  \n",
              "0                   0.0                    59.0  \n",
              "1                   4.0                    61.0  \n",
              "2                   6.0                    74.0  \n",
              "3                   0.0                    83.0  \n",
              "4                   0.0                    49.0  "
            ],
            "text/html": [
              "\n",
              "  <div id=\"df-96e634b0-46b9-4c0a-85c4-4a2e04adbc58\">\n",
              "    <div class=\"colab-df-container\">\n",
              "      <div>\n",
              "<style scoped>\n",
              "    .dataframe tbody tr th:only-of-type {\n",
              "        vertical-align: middle;\n",
              "    }\n",
              "\n",
              "    .dataframe tbody tr th {\n",
              "        vertical-align: top;\n",
              "    }\n",
              "\n",
              "    .dataframe thead th {\n",
              "        text-align: right;\n",
              "    }\n",
              "</style>\n",
              "<table border=\"1\" class=\"dataframe\">\n",
              "  <thead>\n",
              "    <tr style=\"text-align: right;\">\n",
              "      <th></th>\n",
              "      <th>Idade</th>\n",
              "      <th>Raca</th>\n",
              "      <th>Estado Civil</th>\n",
              "      <th>Estagio do Tumor</th>\n",
              "      <th>Estagio do Nodulo</th>\n",
              "      <th>Estagio do cancer</th>\n",
              "      <th>Diferenciar</th>\n",
              "      <th>Grau</th>\n",
              "      <th>Localizacao</th>\n",
              "      <th>Tamanho do tumor</th>\n",
              "      <th>Status do Estrogenio</th>\n",
              "      <th>Status da Progesterona</th>\n",
              "      <th>No regional examidado</th>\n",
              "      <th>No Reginoal Positivo</th>\n",
              "      <th>Meses de Sobrevivencia</th>\n",
              "    </tr>\n",
              "  </thead>\n",
              "  <tbody>\n",
              "    <tr>\n",
              "      <th>0</th>\n",
              "      <td>38.0</td>\n",
              "      <td>2.0</td>\n",
              "      <td>1.0</td>\n",
              "      <td>0.0</td>\n",
              "      <td>0.0</td>\n",
              "      <td>0.0</td>\n",
              "      <td>1.0</td>\n",
              "      <td>3.0</td>\n",
              "      <td>1.0</td>\n",
              "      <td>3.0</td>\n",
              "      <td>1.0</td>\n",
              "      <td>1.0</td>\n",
              "      <td>23.0</td>\n",
              "      <td>0.0</td>\n",
              "      <td>59.0</td>\n",
              "    </tr>\n",
              "    <tr>\n",
              "      <th>1</th>\n",
              "      <td>20.0</td>\n",
              "      <td>2.0</td>\n",
              "      <td>1.0</td>\n",
              "      <td>1.0</td>\n",
              "      <td>1.0</td>\n",
              "      <td>2.0</td>\n",
              "      <td>0.0</td>\n",
              "      <td>2.0</td>\n",
              "      <td>1.0</td>\n",
              "      <td>34.0</td>\n",
              "      <td>1.0</td>\n",
              "      <td>1.0</td>\n",
              "      <td>13.0</td>\n",
              "      <td>4.0</td>\n",
              "      <td>61.0</td>\n",
              "    </tr>\n",
              "    <tr>\n",
              "      <th>2</th>\n",
              "      <td>28.0</td>\n",
              "      <td>2.0</td>\n",
              "      <td>0.0</td>\n",
              "      <td>2.0</td>\n",
              "      <td>2.0</td>\n",
              "      <td>4.0</td>\n",
              "      <td>0.0</td>\n",
              "      <td>2.0</td>\n",
              "      <td>1.0</td>\n",
              "      <td>62.0</td>\n",
              "      <td>1.0</td>\n",
              "      <td>1.0</td>\n",
              "      <td>13.0</td>\n",
              "      <td>6.0</td>\n",
              "      <td>74.0</td>\n",
              "    </tr>\n",
              "    <tr>\n",
              "      <th>3</th>\n",
              "      <td>28.0</td>\n",
              "      <td>2.0</td>\n",
              "      <td>1.0</td>\n",
              "      <td>0.0</td>\n",
              "      <td>0.0</td>\n",
              "      <td>0.0</td>\n",
              "      <td>1.0</td>\n",
              "      <td>3.0</td>\n",
              "      <td>1.0</td>\n",
              "      <td>17.0</td>\n",
              "      <td>1.0</td>\n",
              "      <td>1.0</td>\n",
              "      <td>1.0</td>\n",
              "      <td>0.0</td>\n",
              "      <td>83.0</td>\n",
              "    </tr>\n",
              "    <tr>\n",
              "      <th>4</th>\n",
              "      <td>17.0</td>\n",
              "      <td>2.0</td>\n",
              "      <td>1.0</td>\n",
              "      <td>1.0</td>\n",
              "      <td>0.0</td>\n",
              "      <td>1.0</td>\n",
              "      <td>1.0</td>\n",
              "      <td>3.0</td>\n",
              "      <td>1.0</td>\n",
              "      <td>40.0</td>\n",
              "      <td>1.0</td>\n",
              "      <td>1.0</td>\n",
              "      <td>2.0</td>\n",
              "      <td>0.0</td>\n",
              "      <td>49.0</td>\n",
              "    </tr>\n",
              "  </tbody>\n",
              "</table>\n",
              "</div>\n",
              "      <button class=\"colab-df-convert\" onclick=\"convertToInteractive('df-96e634b0-46b9-4c0a-85c4-4a2e04adbc58')\"\n",
              "              title=\"Convert this dataframe to an interactive table.\"\n",
              "              style=\"display:none;\">\n",
              "        \n",
              "  <svg xmlns=\"http://www.w3.org/2000/svg\" height=\"24px\"viewBox=\"0 0 24 24\"\n",
              "       width=\"24px\">\n",
              "    <path d=\"M0 0h24v24H0V0z\" fill=\"none\"/>\n",
              "    <path d=\"M18.56 5.44l.94 2.06.94-2.06 2.06-.94-2.06-.94-.94-2.06-.94 2.06-2.06.94zm-11 1L8.5 8.5l.94-2.06 2.06-.94-2.06-.94L8.5 2.5l-.94 2.06-2.06.94zm10 10l.94 2.06.94-2.06 2.06-.94-2.06-.94-.94-2.06-.94 2.06-2.06.94z\"/><path d=\"M17.41 7.96l-1.37-1.37c-.4-.4-.92-.59-1.43-.59-.52 0-1.04.2-1.43.59L10.3 9.45l-7.72 7.72c-.78.78-.78 2.05 0 2.83L4 21.41c.39.39.9.59 1.41.59.51 0 1.02-.2 1.41-.59l7.78-7.78 2.81-2.81c.8-.78.8-2.07 0-2.86zM5.41 20L4 18.59l7.72-7.72 1.47 1.35L5.41 20z\"/>\n",
              "  </svg>\n",
              "      </button>\n",
              "      \n",
              "  <style>\n",
              "    .colab-df-container {\n",
              "      display:flex;\n",
              "      flex-wrap:wrap;\n",
              "      gap: 12px;\n",
              "    }\n",
              "\n",
              "    .colab-df-convert {\n",
              "      background-color: #E8F0FE;\n",
              "      border: none;\n",
              "      border-radius: 50%;\n",
              "      cursor: pointer;\n",
              "      display: none;\n",
              "      fill: #1967D2;\n",
              "      height: 32px;\n",
              "      padding: 0 0 0 0;\n",
              "      width: 32px;\n",
              "    }\n",
              "\n",
              "    .colab-df-convert:hover {\n",
              "      background-color: #E2EBFA;\n",
              "      box-shadow: 0px 1px 2px rgba(60, 64, 67, 0.3), 0px 1px 3px 1px rgba(60, 64, 67, 0.15);\n",
              "      fill: #174EA6;\n",
              "    }\n",
              "\n",
              "    [theme=dark] .colab-df-convert {\n",
              "      background-color: #3B4455;\n",
              "      fill: #D2E3FC;\n",
              "    }\n",
              "\n",
              "    [theme=dark] .colab-df-convert:hover {\n",
              "      background-color: #434B5C;\n",
              "      box-shadow: 0px 1px 3px 1px rgba(0, 0, 0, 0.15);\n",
              "      filter: drop-shadow(0px 1px 2px rgba(0, 0, 0, 0.3));\n",
              "      fill: #FFFFFF;\n",
              "    }\n",
              "  </style>\n",
              "\n",
              "      <script>\n",
              "        const buttonEl =\n",
              "          document.querySelector('#df-96e634b0-46b9-4c0a-85c4-4a2e04adbc58 button.colab-df-convert');\n",
              "        buttonEl.style.display =\n",
              "          google.colab.kernel.accessAllowed ? 'block' : 'none';\n",
              "\n",
              "        async function convertToInteractive(key) {\n",
              "          const element = document.querySelector('#df-96e634b0-46b9-4c0a-85c4-4a2e04adbc58');\n",
              "          const dataTable =\n",
              "            await google.colab.kernel.invokeFunction('convertToInteractive',\n",
              "                                                     [key], {});\n",
              "          if (!dataTable) return;\n",
              "\n",
              "          const docLinkHtml = 'Like what you see? Visit the ' +\n",
              "            '<a target=\"_blank\" href=https://colab.research.google.com/notebooks/data_table.ipynb>data table notebook</a>'\n",
              "            + ' to learn more about interactive tables.';\n",
              "          element.innerHTML = '';\n",
              "          dataTable['output_type'] = 'display_data';\n",
              "          await google.colab.output.renderOutput(dataTable, element);\n",
              "          const docLink = document.createElement('div');\n",
              "          docLink.innerHTML = docLinkHtml;\n",
              "          element.appendChild(docLink);\n",
              "        }\n",
              "      </script>\n",
              "    </div>\n",
              "  </div>\n",
              "  "
            ]
          },
          "metadata": {},
          "execution_count": 24
        }
      ]
    },
    {
      "cell_type": "code",
      "source": [
        "y.head()"
      ],
      "metadata": {
        "colab": {
          "base_uri": "https://localhost:8080/"
        },
        "id": "jRrrsCa8mRQG",
        "outputId": "ea8f63b2-d8bd-4589-fa17-ffd98a846c5f"
      },
      "execution_count": null,
      "outputs": [
        {
          "output_type": "execute_result",
          "data": {
            "text/plain": [
              "0    0.0\n",
              "1    0.0\n",
              "2    0.0\n",
              "3    0.0\n",
              "4    0.0\n",
              "Name: Status, dtype: float64"
            ]
          },
          "metadata": {},
          "execution_count": 25
        }
      ]
    },
    {
      "cell_type": "markdown",
      "source": [
        "# Aplicando o primeiro modelo de Machine Learning"
      ],
      "metadata": {
        "id": "KArS9nZPmaKO"
      }
    },
    {
      "cell_type": "markdown",
      "source": [
        "# **Modelo GaussianNB**"
      ],
      "metadata": {
        "id": "_WrtyxQmmuU0"
      }
    },
    {
      "cell_type": "markdown",
      "source": [
        "O algoritmo Naive Bayes é um classificador probabilístico baseado no Teorema de Bayes, que consiste no cálculo da probabilidade de um evento dado que outro evento já ocorreu(probabilidade condicional). Além disso, o Naive Bayes trata cada feature de forma independente, visto que não considera a correlação entre elas, sendo bastante utilizado em diagnósticos médicos"
      ],
      "metadata": {
        "id": "7xnndstsmxSt"
      }
    },
    {
      "cell_type": "markdown",
      "source": [
        "Atribuindo um nome de variável para usar o modelo."
      ],
      "metadata": {
        "id": "nqaso5hdq1an"
      }
    },
    {
      "cell_type": "code",
      "source": [
        "modelo_gsnb_1 = GaussianNB()"
      ],
      "metadata": {
        "id": "yiB_EjFbmoam"
      },
      "execution_count": null,
      "outputs": []
    },
    {
      "cell_type": "markdown",
      "source": [
        "Definindo o train e test pro modelo"
      ],
      "metadata": {
        "id": "y6hYw-AZq67x"
      }
    },
    {
      "cell_type": "code",
      "source": [
        "modelo_gsnb_1.fit(x_train,y_train)"
      ],
      "metadata": {
        "colab": {
          "base_uri": "https://localhost:8080/"
        },
        "id": "UyXmNrm6qfvA",
        "outputId": "6c3cdc07-84e3-44a4-b36d-ac102d1236e3"
      },
      "execution_count": null,
      "outputs": [
        {
          "output_type": "execute_result",
          "data": {
            "text/plain": [
              "GaussianNB()"
            ]
          },
          "metadata": {},
          "execution_count": 27
        }
      ]
    },
    {
      "cell_type": "markdown",
      "source": [
        "Definindo o rótulo(y_pred) teste"
      ],
      "metadata": {
        "id": "2Cubw5s-rCHg"
      }
    },
    {
      "cell_type": "code",
      "source": [
        "y_pred = modelo_gsnb_1.predict(x_test)"
      ],
      "metadata": {
        "id": "7flavIWEqfyR"
      },
      "execution_count": null,
      "outputs": []
    },
    {
      "cell_type": "markdown",
      "source": [
        "## **Utilizando as métricas para o modelo GaussianNB**"
      ],
      "metadata": {
        "id": "egRlf8eaqow4"
      }
    },
    {
      "cell_type": "markdown",
      "source": [
        "### Cálculo da Acurácia"
      ],
      "metadata": {
        "id": "Zy32KCFxrUY_"
      }
    },
    {
      "cell_type": "markdown",
      "source": [
        "A Acurácia indica uma performance geral do modelo. Dentre todas as classificações, quantas o modelo classificou corretamente."
      ],
      "metadata": {
        "id": "57RJnWflsOwM"
      }
    },
    {
      "cell_type": "code",
      "source": [
        "acc_GNB= metrics.accuracy_score(y_test, y_pred)\n",
        "print(\"Acurácia:\",metrics.accuracy_score(y_test,y_pred)*100)\n"
      ],
      "metadata": {
        "colab": {
          "base_uri": "https://localhost:8080/"
        },
        "id": "9TFgZJLNqf2X",
        "outputId": "8ec87242-7733-46c3-cfa2-c4370a9802b5"
      },
      "execution_count": null,
      "outputs": [
        {
          "output_type": "stream",
          "name": "stdout",
          "text": [
            "Acurácia: 80.44739022369511\n"
          ]
        }
      ]
    },
    {
      "cell_type": "markdown",
      "source": [
        "### Cálculo da Precisão"
      ],
      "metadata": {
        "id": "RPi69kZUrdaG"
      }
    },
    {
      "cell_type": "markdown",
      "source": [
        "A Precisão calcula dentre todas as classificações de classe Positivo que o modelo fez, quantas estão corretas."
      ],
      "metadata": {
        "id": "oHEmAB2asUWQ"
      }
    },
    {
      "cell_type": "code",
      "source": [
        "ps_GNB= precision_score(y_test, y_pred, average='macro')\n",
        "print(ps_GNB)"
      ],
      "metadata": {
        "colab": {
          "base_uri": "https://localhost:8080/"
        },
        "id": "JqQiePj6rhq2",
        "outputId": "7aa4382a-c9a5-48a9-a024-30e0a1c89dcb"
      },
      "execution_count": null,
      "outputs": [
        {
          "output_type": "stream",
          "name": "stdout",
          "text": [
            "0.652430196483971\n"
          ]
        }
      ]
    },
    {
      "cell_type": "markdown",
      "source": [
        "### Cálculo de Revocação"
      ],
      "metadata": {
        "id": "aRRXgRwMrlZF"
      }
    },
    {
      "cell_type": "markdown",
      "source": [
        "A Revocação calcula entre todas as situações de classe Positivo como valor esperado, quantas estão corretas."
      ],
      "metadata": {
        "id": "zbDMvwB8skPM"
      }
    },
    {
      "cell_type": "code",
      "source": [
        "rc_GNB= recall_score(y_test, y_pred, average='macro')\n",
        "print(rc_GNB)"
      ],
      "metadata": {
        "colab": {
          "base_uri": "https://localhost:8080/"
        },
        "id": "roOLdGxmrnw3",
        "outputId": "5c521910-4072-4049-88d4-18a39d89abb0"
      },
      "execution_count": null,
      "outputs": [
        {
          "output_type": "stream",
          "name": "stdout",
          "text": [
            "0.6846616415760132\n"
          ]
        }
      ]
    },
    {
      "cell_type": "markdown",
      "source": [
        "### Cálculo de F1_score"
      ],
      "metadata": {
        "id": "Q6WUBtBurseg"
      }
    },
    {
      "cell_type": "markdown",
      "source": [
        "A F1 Score é uma média harmônica entre precisão e recall."
      ],
      "metadata": {
        "id": "azRpSuGdsxa2"
      }
    },
    {
      "cell_type": "code",
      "source": [
        "f1_score_GNB= f1_score(y_test, y_pred, average='macro')\n",
        "print(f1_score_GNB)"
      ],
      "metadata": {
        "colab": {
          "base_uri": "https://localhost:8080/"
        },
        "id": "rpJCjTC7ry6e",
        "outputId": "1a6616d3-f361-4743-f80a-4123ee3f4f74"
      },
      "execution_count": null,
      "outputs": [
        {
          "output_type": "stream",
          "name": "stdout",
          "text": [
            "0.6648831540409031\n"
          ]
        }
      ]
    },
    {
      "cell_type": "markdown",
      "source": [
        "Imprimindo métricas"
      ],
      "metadata": {
        "id": "mfBbJ3Lw56z9"
      }
    },
    {
      "cell_type": "code",
      "source": [
        "from sklearn.metrics import classification_report"
      ],
      "metadata": {
        "id": "7kMjPery5_pO"
      },
      "execution_count": null,
      "outputs": []
    },
    {
      "cell_type": "code",
      "source": [
        "print(classification_report(y_test, y_pred))"
      ],
      "metadata": {
        "colab": {
          "base_uri": "https://localhost:8080/"
        },
        "id": "NUUQzkdx6DNN",
        "outputId": "69934728-9d9c-4ea4-b582-81793bb3d1ca"
      },
      "execution_count": null,
      "outputs": [
        {
          "output_type": "stream",
          "name": "stdout",
          "text": [
            "              precision    recall  f1-score   support\n",
            "\n",
            "         0.0       0.90      0.86      0.88      1019\n",
            "         1.0       0.40      0.51      0.45       188\n",
            "\n",
            "    accuracy                           0.80      1207\n",
            "   macro avg       0.65      0.68      0.66      1207\n",
            "weighted avg       0.83      0.80      0.81      1207\n",
            "\n"
          ]
        }
      ]
    },
    {
      "cell_type": "code",
      "source": [
        "confusion_matrix(y_test, y_pred)"
      ],
      "metadata": {
        "colab": {
          "base_uri": "https://localhost:8080/"
        },
        "id": "pazSPfui6338",
        "outputId": "60657da9-0a98-4c89-9320-23505bb004e2"
      },
      "execution_count": null,
      "outputs": [
        {
          "output_type": "execute_result",
          "data": {
            "text/plain": [
              "array([[875, 144],\n",
              "       [ 92,  96]])"
            ]
          },
          "metadata": {},
          "execution_count": 35
        }
      ]
    },
    {
      "cell_type": "code",
      "source": [
        "confusion_matrix(y_test, y_pred)"
      ],
      "metadata": {
        "colab": {
          "base_uri": "https://localhost:8080/"
        },
        "id": "upw17N3868In",
        "outputId": "eaa648e9-b7fa-4d2a-aaca-d4d56063f721"
      },
      "execution_count": null,
      "outputs": [
        {
          "output_type": "execute_result",
          "data": {
            "text/plain": [
              "array([[875, 144],\n",
              "       [ 92,  96]])"
            ]
          },
          "metadata": {},
          "execution_count": 36
        }
      ]
    },
    {
      "cell_type": "markdown",
      "source": [
        "# Etapa III - Projeto I - Aplicação de Métodos de Aprendizagem de Máquina"
      ],
      "metadata": {
        "id": "oPA5GDnSzy7_"
      }
    },
    {
      "cell_type": "markdown",
      "source": [
        "# Aplicando o segundo modelo de Machine Learning"
      ],
      "metadata": {
        "id": "LaFPLmfy0GeB"
      }
    },
    {
      "cell_type": "markdown",
      "source": [
        "# **Modelo RandomForestClassifier**"
      ],
      "metadata": {
        "id": "Gi5nLo4T0Oe1"
      }
    },
    {
      "cell_type": "markdown",
      "source": [
        "O algoritmo Random Forest Classifier gera árvores de decisão, de maneira aleatória, formando uma floresta, onde cada árvore será utilizada na escolha do resultado final, em uma espécie de votação. As Árvores de Decisão, ou Decision Trees, estabelecem regras para tomada de decisão. O algoritmo criará uma estrutura similar a um fluxograma, com “nós” onde uma condição é verificada, e se atendida o fluxo segue por um ramo, caso contrário, por outro, sempre levando ao próximo nó, até a finalização da árvore."
      ],
      "metadata": {
        "id": "kbokAp3f2QCb"
      }
    },
    {
      "cell_type": "markdown",
      "source": [
        "Atribuindo um nome de variável para usar o modelo."
      ],
      "metadata": {
        "id": "Nfve6uqI1vud"
      }
    },
    {
      "cell_type": "code",
      "source": [
        "modelo_rfc_1 = RandomForestClassifier()"
      ],
      "metadata": {
        "id": "BQ-sn-3B1jfz"
      },
      "execution_count": null,
      "outputs": []
    },
    {
      "cell_type": "markdown",
      "source": [
        "Definindo o train e test pro modelo"
      ],
      "metadata": {
        "id": "vsOtP1CI12SQ"
      }
    },
    {
      "cell_type": "code",
      "source": [
        "modelo_rfc_1.fit(x_train,y_train)"
      ],
      "metadata": {
        "colab": {
          "base_uri": "https://localhost:8080/"
        },
        "id": "MXFF0zJR1juD",
        "outputId": "797f95ba-5a3b-43b8-bead-54452bb3907f"
      },
      "execution_count": null,
      "outputs": [
        {
          "output_type": "execute_result",
          "data": {
            "text/plain": [
              "RandomForestClassifier()"
            ]
          },
          "metadata": {},
          "execution_count": 38
        }
      ]
    },
    {
      "cell_type": "markdown",
      "source": [
        "Definindo o rótulo(y_pred) teste"
      ],
      "metadata": {
        "id": "QxrFWoZb1-qk"
      }
    },
    {
      "cell_type": "code",
      "source": [
        "y_pred = modelo_rfc_1.predict(x_test)"
      ],
      "metadata": {
        "id": "blUneHpjz26r"
      },
      "execution_count": null,
      "outputs": []
    },
    {
      "cell_type": "markdown",
      "source": [
        "## **Utilizando as métricas para o modelo Random Forest Classifier**"
      ],
      "metadata": {
        "id": "__TloYxI1hsM"
      }
    },
    {
      "cell_type": "markdown",
      "source": [
        "### Cálculo da Acurácia"
      ],
      "metadata": {
        "id": "oK_3U-260avu"
      }
    },
    {
      "cell_type": "markdown",
      "source": [
        "A Acurácia indica uma performance geral do modelo. Dentre todas as classificações, quantas o modelo classificou corretamente."
      ],
      "metadata": {
        "id": "fLzlVL0A0fmm"
      }
    },
    {
      "cell_type": "code",
      "source": [
        "acc_RFC= metrics.accuracy_score(y_test, y_pred)\n",
        "print(\"Acurácia:\",metrics.accuracy_score(y_test,y_pred)*100)"
      ],
      "metadata": {
        "colab": {
          "base_uri": "https://localhost:8080/"
        },
        "id": "jTa6Zi490U23",
        "outputId": "844503fe-56b0-49c1-fb6a-686676f3e057"
      },
      "execution_count": null,
      "outputs": [
        {
          "output_type": "stream",
          "name": "stdout",
          "text": [
            "Acurácia: 90.88649544324771\n"
          ]
        }
      ]
    },
    {
      "cell_type": "markdown",
      "source": [
        "### Cálculo da Precisão"
      ],
      "metadata": {
        "id": "kq-84ppY0oGH"
      }
    },
    {
      "cell_type": "markdown",
      "source": [
        "A Precisão calcula dentre todas as classificações de classe Positivo que o modelo fez, quantas estão corretas."
      ],
      "metadata": {
        "id": "hw5buozc0szO"
      }
    },
    {
      "cell_type": "code",
      "source": [
        "ps_RF=precision_score(y_test, y_pred, average='macro')\n",
        "print(ps_RF)"
      ],
      "metadata": {
        "colab": {
          "base_uri": "https://localhost:8080/"
        },
        "id": "7qvuhvLx0U7-",
        "outputId": "74057d55-9766-4d29-9ec4-28b54271a24b"
      },
      "execution_count": null,
      "outputs": [
        {
          "output_type": "stream",
          "name": "stdout",
          "text": [
            "0.8649839214131536\n"
          ]
        }
      ]
    },
    {
      "cell_type": "markdown",
      "source": [
        "### Cálculo de Revocação"
      ],
      "metadata": {
        "id": "WFwTELv20zKH"
      }
    },
    {
      "cell_type": "markdown",
      "source": [
        "A Revocação calcula entre todas as situações de classe Positivo como valor esperado, quantas estão corretas."
      ],
      "metadata": {
        "id": "37qCToz1030d"
      }
    },
    {
      "cell_type": "code",
      "source": [
        "rc_RF=recall_score(y_test, y_pred, average='macro')\n",
        "print(rc_RF)\n"
      ],
      "metadata": {
        "colab": {
          "base_uri": "https://localhost:8080/"
        },
        "id": "KgXpY4sb0U_5",
        "outputId": "3bc69e76-432d-4968-f008-908861325a73"
      },
      "execution_count": null,
      "outputs": [
        {
          "output_type": "stream",
          "name": "stdout",
          "text": [
            "0.759500344517988\n"
          ]
        }
      ]
    },
    {
      "cell_type": "markdown",
      "source": [
        "### Cálculo de F1_score"
      ],
      "metadata": {
        "id": "0_rYvbbo08DS"
      }
    },
    {
      "cell_type": "markdown",
      "source": [
        "A F1 Score é uma média harmônica entre precisão e recall."
      ],
      "metadata": {
        "id": "MSfn_X041FOO"
      }
    },
    {
      "cell_type": "code",
      "source": [
        "f1_score_RF= f1_score(y_test, y_pred, average='macro')\n",
        "print(f1_score_RF)"
      ],
      "metadata": {
        "colab": {
          "base_uri": "https://localhost:8080/"
        },
        "id": "Ixn5vlRY1RBU",
        "outputId": "141c1836-706c-4726-9d79-e8bcb5d93d29"
      },
      "execution_count": null,
      "outputs": [
        {
          "output_type": "stream",
          "name": "stdout",
          "text": [
            "0.798650288140734\n"
          ]
        }
      ]
    },
    {
      "cell_type": "markdown",
      "source": [
        "Imprimindo métricas"
      ],
      "metadata": {
        "id": "EIzNUW9P7YEe"
      }
    },
    {
      "cell_type": "code",
      "source": [
        "print(classification_report(y_test, y_pred))\n"
      ],
      "metadata": {
        "colab": {
          "base_uri": "https://localhost:8080/"
        },
        "id": "6ouXw9sa7Yb-",
        "outputId": "117e8ced-f454-43fe-ed32-f8dda61c103e"
      },
      "execution_count": null,
      "outputs": [
        {
          "output_type": "stream",
          "name": "stdout",
          "text": [
            "              precision    recall  f1-score   support\n",
            "\n",
            "         0.0       0.92      0.98      0.95      1019\n",
            "         1.0       0.81      0.54      0.65       188\n",
            "\n",
            "    accuracy                           0.91      1207\n",
            "   macro avg       0.86      0.76      0.80      1207\n",
            "weighted avg       0.90      0.91      0.90      1207\n",
            "\n"
          ]
        }
      ]
    },
    {
      "cell_type": "code",
      "source": [
        "confusion_matrix(y_test, y_pred)"
      ],
      "metadata": {
        "colab": {
          "base_uri": "https://localhost:8080/"
        },
        "id": "LcDC0M4u7ZhH",
        "outputId": "97834fc7-ee0e-4236-b8b8-b8bdaf42af41"
      },
      "execution_count": null,
      "outputs": [
        {
          "output_type": "execute_result",
          "data": {
            "text/plain": [
              "array([[995,  24],\n",
              "       [ 86, 102]])"
            ]
          },
          "metadata": {},
          "execution_count": 45
        }
      ]
    },
    {
      "cell_type": "markdown",
      "source": [
        "# Aplicando o terceiro modelo de Machine Learning"
      ],
      "metadata": {
        "id": "B4gzjJhK3Bz5"
      }
    },
    {
      "cell_type": "markdown",
      "source": [
        "# **Modelo de Logistic Regression**"
      ],
      "metadata": {
        "id": "fsakBOpg3YHZ"
      }
    },
    {
      "cell_type": "markdown",
      "source": [
        "A regressão logística é uma técnica de análise de dados que usa matemática para encontrar as relações entre dois fatores de dados. Em seguida, essa relação é usada para prever o valor de um desses fatores com base no outro. A previsão geralmente tem um número finito de resultados, como sim ou não. Apesar de ter o nome \"Regressão\" ela é utilizada para tarefas com algoritmos de \"Classificação\"."
      ],
      "metadata": {
        "id": "bv8kWcta5AOL"
      }
    },
    {
      "cell_type": "markdown",
      "source": [
        "Atribuindo um nome de variável para usar o modelo."
      ],
      "metadata": {
        "id": "e6aad0Zi3tI6"
      }
    },
    {
      "cell_type": "code",
      "source": [
        "modelo_lr_1 = LogisticRegression()"
      ],
      "metadata": {
        "id": "cRi3WQKU3cPB"
      },
      "execution_count": null,
      "outputs": []
    },
    {
      "cell_type": "markdown",
      "source": [
        "Definindo o train e test pro modelo"
      ],
      "metadata": {
        "id": "o55WVso03xYr"
      }
    },
    {
      "cell_type": "code",
      "source": [
        "modelo_lr_1.fit(x_train,y_train)"
      ],
      "metadata": {
        "colab": {
          "base_uri": "https://localhost:8080/"
        },
        "id": "pozrsTmR3lPr",
        "outputId": "c9d88a3a-654a-46f1-f5bb-c36ed89c33a8"
      },
      "execution_count": null,
      "outputs": [
        {
          "output_type": "stream",
          "name": "stderr",
          "text": [
            "/usr/local/lib/python3.7/dist-packages/sklearn/linear_model/_logistic.py:818: ConvergenceWarning: lbfgs failed to converge (status=1):\n",
            "STOP: TOTAL NO. of ITERATIONS REACHED LIMIT.\n",
            "\n",
            "Increase the number of iterations (max_iter) or scale the data as shown in:\n",
            "    https://scikit-learn.org/stable/modules/preprocessing.html\n",
            "Please also refer to the documentation for alternative solver options:\n",
            "    https://scikit-learn.org/stable/modules/linear_model.html#logistic-regression\n",
            "  extra_warning_msg=_LOGISTIC_SOLVER_CONVERGENCE_MSG,\n"
          ]
        },
        {
          "output_type": "execute_result",
          "data": {
            "text/plain": [
              "LogisticRegression()"
            ]
          },
          "metadata": {},
          "execution_count": 47
        }
      ]
    },
    {
      "cell_type": "markdown",
      "source": [
        "Definindo o rótulo(y_pred) teste"
      ],
      "metadata": {
        "id": "p-55vYR43zhg"
      }
    },
    {
      "cell_type": "code",
      "source": [
        "y_pred = modelo_lr_1.predict(x_test)"
      ],
      "metadata": {
        "id": "WxkOETrk3lSu"
      },
      "execution_count": null,
      "outputs": []
    },
    {
      "cell_type": "markdown",
      "source": [
        "## **Utilizando as métricas para o modelo Logistic Regression**"
      ],
      "metadata": {
        "id": "4nWlRpAL4EQw"
      }
    },
    {
      "cell_type": "markdown",
      "source": [
        "### Cálculo da Acurácia"
      ],
      "metadata": {
        "id": "cDZb8FG14Sf4"
      }
    },
    {
      "cell_type": "markdown",
      "source": [
        "A Acurácia indica uma performance geral do modelo. Dentre todas as classificações, quantas o modelo classificou corretamente."
      ],
      "metadata": {
        "id": "57iyQsGe4Wrg"
      }
    },
    {
      "cell_type": "code",
      "source": [
        "acc_LR= metrics.accuracy_score(y_test, y_pred)\n",
        "print(\"Acurácia:\",metrics.accuracy_score(y_test,y_pred)*100)"
      ],
      "metadata": {
        "colab": {
          "base_uri": "https://localhost:8080/"
        },
        "id": "G0U1KJ9S3dCU",
        "outputId": "b2fb18af-26bf-478a-c640-5c21fdeed836"
      },
      "execution_count": null,
      "outputs": [
        {
          "output_type": "stream",
          "name": "stdout",
          "text": [
            "Acurácia: 89.89229494614747\n"
          ]
        }
      ]
    },
    {
      "cell_type": "markdown",
      "source": [
        "### Cálculo da Precisão"
      ],
      "metadata": {
        "id": "l9yf5eUZ4aZw"
      }
    },
    {
      "cell_type": "markdown",
      "source": [
        "A Precisão calcula dentre todas as classificações de classe Positivo que o modelo fez, quantas estão corretas."
      ],
      "metadata": {
        "id": "7FkiplQx4e1X"
      }
    },
    {
      "cell_type": "code",
      "source": [
        "ps_LR= precision_score(y_test, y_pred, average='macro')\n",
        "print(ps_LR)"
      ],
      "metadata": {
        "colab": {
          "base_uri": "https://localhost:8080/"
        },
        "id": "MLpmhLp77t8k",
        "outputId": "33b109bc-67f9-4705-932d-726644c1e8a5"
      },
      "execution_count": null,
      "outputs": [
        {
          "output_type": "stream",
          "name": "stdout",
          "text": [
            "0.8477867505294099\n"
          ]
        }
      ]
    },
    {
      "cell_type": "markdown",
      "source": [
        "### Cálculo de Revocação"
      ],
      "metadata": {
        "id": "bd3heFCm4i6v"
      }
    },
    {
      "cell_type": "markdown",
      "source": [
        "A Revocação calcula entre todas as situações de classe Positivo como valor esperado, quantas estão corretas."
      ],
      "metadata": {
        "id": "s0qMDC1k4jFH"
      }
    },
    {
      "cell_type": "code",
      "source": [
        "rc_LR= recall_score(y_test, y_pred, average='macro')\n",
        "print(rc_LR)"
      ],
      "metadata": {
        "colab": {
          "base_uri": "https://localhost:8080/"
        },
        "id": "w-KGjxa23gPU",
        "outputId": "06538572-1137-4701-b0f6-1b5e2a8121a0"
      },
      "execution_count": null,
      "outputs": [
        {
          "output_type": "stream",
          "name": "stdout",
          "text": [
            "0.7297543482346063\n"
          ]
        }
      ]
    },
    {
      "cell_type": "markdown",
      "source": [
        "### Cálculo de F1_score"
      ],
      "metadata": {
        "id": "HSw7P-wg4qrh"
      }
    },
    {
      "cell_type": "markdown",
      "source": [
        "A F1 Score é uma média harmônica entre precisão e recall."
      ],
      "metadata": {
        "id": "3gFw0eyJ4q-q"
      }
    },
    {
      "cell_type": "code",
      "source": [
        "f1_score_LR= f1_score(y_test, y_pred, average='macro')\n",
        "print(f1_score_LR)"
      ],
      "metadata": {
        "colab": {
          "base_uri": "https://localhost:8080/"
        },
        "id": "CyZf2tAi3gST",
        "outputId": "5ac5cf64-6779-457a-99c1-061445155c6f"
      },
      "execution_count": null,
      "outputs": [
        {
          "output_type": "stream",
          "name": "stdout",
          "text": [
            "0.7704321526565228\n"
          ]
        }
      ]
    },
    {
      "cell_type": "markdown",
      "source": [
        "Imprimindo métricas"
      ],
      "metadata": {
        "id": "ZO-SXWfx7iYz"
      }
    },
    {
      "cell_type": "code",
      "source": [
        "print(classification_report(y_test, y_pred))\n"
      ],
      "metadata": {
        "colab": {
          "base_uri": "https://localhost:8080/"
        },
        "id": "SW73mVGu7isE",
        "outputId": "5a5dc3ec-fcfd-40a8-bb8e-5d2818559d33"
      },
      "execution_count": null,
      "outputs": [
        {
          "output_type": "stream",
          "name": "stdout",
          "text": [
            "              precision    recall  f1-score   support\n",
            "\n",
            "         0.0       0.91      0.98      0.94      1019\n",
            "         1.0       0.78      0.48      0.60       188\n",
            "\n",
            "    accuracy                           0.90      1207\n",
            "   macro avg       0.85      0.73      0.77      1207\n",
            "weighted avg       0.89      0.90      0.89      1207\n",
            "\n"
          ]
        }
      ]
    },
    {
      "cell_type": "code",
      "source": [
        "confusion_matrix(y_test, y_pred)"
      ],
      "metadata": {
        "colab": {
          "base_uri": "https://localhost:8080/"
        },
        "id": "kFPR567X7ssY",
        "outputId": "8ce7b873-bad8-4b18-cedb-c1e3b49f93ab"
      },
      "execution_count": null,
      "outputs": [
        {
          "output_type": "execute_result",
          "data": {
            "text/plain": [
              "array([[994,  25],\n",
              "       [ 97,  91]])"
            ]
          },
          "metadata": {},
          "execution_count": 54
        }
      ]
    },
    {
      "cell_type": "markdown",
      "source": [
        "# Aplicando o quarto modelo de Machine Learning"
      ],
      "metadata": {
        "id": "33iBfiPA8Fsu"
      }
    },
    {
      "cell_type": "markdown",
      "source": [
        "# **Modelo Dummy classifier**"
      ],
      "metadata": {
        "id": "_mA1IG2h5eh1"
      }
    },
    {
      "cell_type": "markdown",
      "source": [
        "Variáveis dummy são variáveis binárias (0 ou 1) criadas para representar uma variável com duas ou mais categorias. A utilização da variável dummy irá permitir a captação da diferença do valor esperado entre categorias, ou seja, o coeficiente (Beta) do modelo será o valor médio que determinada categoria representa. As variáveis dummys devem ser utilizadas sempre que desejarmos incluir variáveis categóricas em modelos que aceitam apenas variáveis numéricas"
      ],
      "metadata": {
        "id": "jh8YMsOR6Ff1"
      }
    },
    {
      "cell_type": "markdown",
      "source": [
        "Atribuindo um nome de variável para usar o modelo."
      ],
      "metadata": {
        "id": "tqK7CNYP6waF"
      }
    },
    {
      "cell_type": "code",
      "source": [
        "modelo_dum_1 = DummyClassifier(strategy=\"most_frequent\")"
      ],
      "metadata": {
        "id": "2tuJd9ZE5fm9"
      },
      "execution_count": null,
      "outputs": []
    },
    {
      "cell_type": "markdown",
      "source": [
        "Definindo o train e test pro modelo"
      ],
      "metadata": {
        "id": "3NugaISm61El"
      }
    },
    {
      "cell_type": "code",
      "source": [
        "modelo_dum_1.fit(x_train,y_train)"
      ],
      "metadata": {
        "colab": {
          "base_uri": "https://localhost:8080/"
        },
        "id": "2KRACNMv6BMe",
        "outputId": "cf41a031-6940-4a80-9412-d88f2de1eb94"
      },
      "execution_count": null,
      "outputs": [
        {
          "output_type": "execute_result",
          "data": {
            "text/plain": [
              "DummyClassifier(strategy='most_frequent')"
            ]
          },
          "metadata": {},
          "execution_count": 56
        }
      ]
    },
    {
      "cell_type": "markdown",
      "source": [
        "Definindo o rótulo(y_pred) teste"
      ],
      "metadata": {
        "id": "A4uGTtnZ65KT"
      }
    },
    {
      "cell_type": "code",
      "source": [
        "y_pred = modelo_dum_1.predict(x_test)"
      ],
      "metadata": {
        "id": "sEiwsTWK6BPh"
      },
      "execution_count": null,
      "outputs": []
    },
    {
      "cell_type": "markdown",
      "source": [
        "## **Utilizando as métricas para o modelo Dummy classifier**"
      ],
      "metadata": {
        "id": "8vxACyOU7RwA"
      }
    },
    {
      "cell_type": "markdown",
      "source": [
        "Utilizamos este algoritmo como método extra, não serão comparados os resultados"
      ],
      "metadata": {
        "id": "CqLJHtj3LOeX"
      }
    },
    {
      "cell_type": "markdown",
      "source": [
        "### Cálculo Acurácia"
      ],
      "metadata": {
        "id": "REy5i7ZS5mNO"
      }
    },
    {
      "cell_type": "markdown",
      "source": [
        "A Acurácia indica uma performance geral do modelo. Dentre todas as classificações, quantas o modelo classificou corretamente."
      ],
      "metadata": {
        "id": "8wBwEmX17AAD"
      }
    },
    {
      "cell_type": "code",
      "source": [
        "print(\"Acurácia:\",metrics.accuracy_score(y_test,y_pred)*100)"
      ],
      "metadata": {
        "colab": {
          "base_uri": "https://localhost:8080/"
        },
        "id": "pIS7yfJk5fql",
        "outputId": "0cbd7863-5c58-47c1-892a-510bb6718a28"
      },
      "execution_count": null,
      "outputs": [
        {
          "output_type": "stream",
          "name": "stdout",
          "text": [
            "Acurácia: 84.4241922120961\n"
          ]
        }
      ]
    },
    {
      "cell_type": "markdown",
      "source": [
        "### Cálculo Precisão"
      ],
      "metadata": {
        "id": "tN2y_7iZ5prw"
      }
    },
    {
      "cell_type": "markdown",
      "source": [
        "A Precisão calcula dentre todas as classificações de classe Positivo que o modelo fez, quantas estão corretas."
      ],
      "metadata": {
        "id": "TtNinYBv7Dzz"
      }
    },
    {
      "cell_type": "code",
      "source": [
        "precision_score(y_test, y_pred, average='macro')"
      ],
      "metadata": {
        "colab": {
          "base_uri": "https://localhost:8080/"
        },
        "id": "NwDCyMfA5fvH",
        "outputId": "d867920a-e3c0-48f7-a9b9-ab1e5ba13550"
      },
      "execution_count": null,
      "outputs": [
        {
          "output_type": "stream",
          "name": "stderr",
          "text": [
            "/usr/local/lib/python3.7/dist-packages/sklearn/metrics/_classification.py:1318: UndefinedMetricWarning: Precision is ill-defined and being set to 0.0 in labels with no predicted samples. Use `zero_division` parameter to control this behavior.\n",
            "  _warn_prf(average, modifier, msg_start, len(result))\n"
          ]
        },
        {
          "output_type": "execute_result",
          "data": {
            "text/plain": [
              "0.4221209610604805"
            ]
          },
          "metadata": {},
          "execution_count": 59
        }
      ]
    },
    {
      "cell_type": "markdown",
      "source": [
        "### Cálculo Revocação"
      ],
      "metadata": {
        "id": "aTQbOVX45u8R"
      }
    },
    {
      "cell_type": "markdown",
      "source": [
        "A Revocação calcula entre todas as situações de classe Positivo como valor esperado, quantas estão corretas."
      ],
      "metadata": {
        "id": "LS8DZcJ37Hqy"
      }
    },
    {
      "cell_type": "code",
      "source": [
        "recall_score(y_test, y_pred, average='macro')"
      ],
      "metadata": {
        "colab": {
          "base_uri": "https://localhost:8080/"
        },
        "id": "pYRmd1x45f0U",
        "outputId": "1731bfbd-6596-41bd-b6c8-5c1e685fa88c"
      },
      "execution_count": null,
      "outputs": [
        {
          "output_type": "execute_result",
          "data": {
            "text/plain": [
              "0.5"
            ]
          },
          "metadata": {},
          "execution_count": 60
        }
      ]
    },
    {
      "cell_type": "markdown",
      "source": [
        "### Cálculo F1 Score"
      ],
      "metadata": {
        "id": "kECoHiOj5zme"
      }
    },
    {
      "cell_type": "markdown",
      "source": [
        "A F1 Score é uma média harmônica entre precisão e recall."
      ],
      "metadata": {
        "id": "7HF2WZuW7L5y"
      }
    },
    {
      "cell_type": "code",
      "source": [
        "f1_score(y_test, y_pred, average='macro')"
      ],
      "metadata": {
        "colab": {
          "base_uri": "https://localhost:8080/"
        },
        "id": "yg26X2ih5f5U",
        "outputId": "293849be-7ba7-48c9-db18-78d12b43f906"
      },
      "execution_count": null,
      "outputs": [
        {
          "output_type": "execute_result",
          "data": {
            "text/plain": [
              "0.4577717879604672"
            ]
          },
          "metadata": {},
          "execution_count": 61
        }
      ]
    },
    {
      "cell_type": "markdown",
      "source": [
        "Imprimindo métricas"
      ],
      "metadata": {
        "id": "p7yyb4Ir79wC"
      }
    },
    {
      "cell_type": "code",
      "source": [
        "print(classification_report(y_test, y_pred))\n"
      ],
      "metadata": {
        "colab": {
          "base_uri": "https://localhost:8080/"
        },
        "id": "LSxa-U7F7_6q",
        "outputId": "aa4eee51-9804-47af-d058-4ecfecad7909"
      },
      "execution_count": null,
      "outputs": [
        {
          "output_type": "stream",
          "name": "stdout",
          "text": [
            "              precision    recall  f1-score   support\n",
            "\n",
            "         0.0       0.84      1.00      0.92      1019\n",
            "         1.0       0.00      0.00      0.00       188\n",
            "\n",
            "    accuracy                           0.84      1207\n",
            "   macro avg       0.42      0.50      0.46      1207\n",
            "weighted avg       0.71      0.84      0.77      1207\n",
            "\n"
          ]
        },
        {
          "output_type": "stream",
          "name": "stderr",
          "text": [
            "/usr/local/lib/python3.7/dist-packages/sklearn/metrics/_classification.py:1318: UndefinedMetricWarning: Precision and F-score are ill-defined and being set to 0.0 in labels with no predicted samples. Use `zero_division` parameter to control this behavior.\n",
            "  _warn_prf(average, modifier, msg_start, len(result))\n",
            "/usr/local/lib/python3.7/dist-packages/sklearn/metrics/_classification.py:1318: UndefinedMetricWarning: Precision and F-score are ill-defined and being set to 0.0 in labels with no predicted samples. Use `zero_division` parameter to control this behavior.\n",
            "  _warn_prf(average, modifier, msg_start, len(result))\n",
            "/usr/local/lib/python3.7/dist-packages/sklearn/metrics/_classification.py:1318: UndefinedMetricWarning: Precision and F-score are ill-defined and being set to 0.0 in labels with no predicted samples. Use `zero_division` parameter to control this behavior.\n",
            "  _warn_prf(average, modifier, msg_start, len(result))\n"
          ]
        }
      ]
    },
    {
      "cell_type": "code",
      "source": [
        "confusion_matrix(y_test, y_pred)"
      ],
      "metadata": {
        "colab": {
          "base_uri": "https://localhost:8080/"
        },
        "id": "foTaFg_S8CKF",
        "outputId": "8226b3b5-a2d7-4255-f125-63310d463b73"
      },
      "execution_count": null,
      "outputs": [
        {
          "output_type": "execute_result",
          "data": {
            "text/plain": [
              "array([[1019,    0],\n",
              "       [ 188,    0]])"
            ]
          },
          "metadata": {},
          "execution_count": 63
        }
      ]
    },
    {
      "cell_type": "markdown",
      "source": [
        "## Criando Funções para os modelos para fazer balanceamento dos dados"
      ],
      "metadata": {
        "id": "9GDJPgO_8q1f"
      }
    },
    {
      "cell_type": "code",
      "source": [
        "def guaussi(x_train,y_train,x_test):\n",
        "  modelo = GaussianNB()\n",
        "  modelo.fit(x_train,y_train)\n",
        "  y_pred = modelo.predict(x_test)\n",
        "  cm = confusion_matrix(y_test, y_pred)\n",
        "  return print(classification_report(y_test, y_pred))"
      ],
      "metadata": {
        "id": "d2au_X_U819Q"
      },
      "execution_count": null,
      "outputs": []
    },
    {
      "cell_type": "code",
      "source": [
        "def Dummy(x_train,y_train,x_test):\n",
        "  modelo = DummyClassifier(strategy=\"most_frequent\")\n",
        "  modelo.fit(x_train,y_train)\n",
        "  y_pred = modelo.predict(x_test)\n",
        "  print(classification_report(y_test, y_pred))\n",
        "  confusion_matrix(y_test, y_pred)"
      ],
      "metadata": {
        "id": "eu4QGOE982Ac"
      },
      "execution_count": null,
      "outputs": []
    },
    {
      "cell_type": "code",
      "source": [
        "def RandomForest(x_train,y_train,x_test):\n",
        "  modelo = RandomForestClassifier()\n",
        "  modelo.fit(x_train,y_train)\n",
        "  y_pred = modelo.predict(x_test)\n",
        "  cm = confusion_matrix(y_test, y_pred)\n",
        "  return print(classification_report(y_test, y_pred))"
      ],
      "metadata": {
        "id": "l9bqODEl82D5"
      },
      "execution_count": null,
      "outputs": []
    },
    {
      "cell_type": "code",
      "source": [
        "def Logistic(x_train,y_train,x_test):\n",
        "  modelo = LogisticRegression()\n",
        "  modelo.fit(x_train,y_train)\n",
        "  y_pred = modelo.predict(x_test)\n",
        "  cm = confusion_matrix(y_test, y_pred)\n",
        "  return print(classification_report(y_test, y_pred))"
      ],
      "metadata": {
        "id": "jn8KnWWq82Jz"
      },
      "execution_count": null,
      "outputs": []
    },
    {
      "cell_type": "markdown",
      "source": [
        "# Balanceando os dados "
      ],
      "metadata": {
        "id": "MgkbPwJU9Ddc"
      }
    },
    {
      "cell_type": "markdown",
      "source": [
        "O balanceamento é feito para regularizar os resultados. Neste caso usaremos a biblioteca SMOTE"
      ],
      "metadata": {
        "id": "6JGE0oRz9Edn"
      }
    },
    {
      "cell_type": "code",
      "source": [
        "from imblearn.over_sampling import SMOTE"
      ],
      "metadata": {
        "id": "JQ_-4RRu9ApC"
      },
      "execution_count": null,
      "outputs": []
    },
    {
      "cell_type": "code",
      "source": [
        "pip install -U imbalanced-learn"
      ],
      "metadata": {
        "colab": {
          "base_uri": "https://localhost:8080/",
          "height": 416
        },
        "id": "lNbduWtj9Asp",
        "outputId": "ece65edb-f874-472d-a2c2-09fd2d3cf002"
      },
      "execution_count": null,
      "outputs": [
        {
          "output_type": "stream",
          "name": "stdout",
          "text": [
            "Looking in indexes: https://pypi.org/simple, https://us-python.pkg.dev/colab-wheels/public/simple/\n",
            "Requirement already satisfied: imbalanced-learn in /usr/local/lib/python3.7/dist-packages (0.8.1)\n",
            "Collecting imbalanced-learn\n",
            "  Downloading imbalanced_learn-0.9.1-py3-none-any.whl (199 kB)\n",
            "\u001b[K     |████████████████████████████████| 199 kB 5.2 MB/s \n",
            "\u001b[?25hRequirement already satisfied: numpy>=1.17.3 in /usr/local/lib/python3.7/dist-packages (from imbalanced-learn) (1.21.6)\n",
            "  Downloading imbalanced_learn-0.9.0-py3-none-any.whl (199 kB)\n",
            "\u001b[K     |████████████████████████████████| 199 kB 60.7 MB/s \n",
            "\u001b[?25hRequirement already satisfied: threadpoolctl>=2.0.0 in /usr/local/lib/python3.7/dist-packages (from imbalanced-learn) (3.1.0)\n",
            "Requirement already satisfied: joblib>=0.11 in /usr/local/lib/python3.7/dist-packages (from imbalanced-learn) (1.2.0)\n",
            "Requirement already satisfied: scipy>=1.1.0 in /usr/local/lib/python3.7/dist-packages (from imbalanced-learn) (1.7.3)\n",
            "Requirement already satisfied: scikit-learn>=1.0.1 in /usr/local/lib/python3.7/dist-packages (from imbalanced-learn) (1.0.2)\n",
            "Installing collected packages: imbalanced-learn\n",
            "  Attempting uninstall: imbalanced-learn\n",
            "    Found existing installation: imbalanced-learn 0.8.1\n",
            "    Uninstalling imbalanced-learn-0.8.1:\n",
            "      Successfully uninstalled imbalanced-learn-0.8.1\n",
            "Successfully installed imbalanced-learn-0.9.0\n"
          ]
        },
        {
          "output_type": "display_data",
          "data": {
            "application/vnd.colab-display-data+json": {
              "pip_warning": {
                "packages": [
                  "imblearn"
                ]
              }
            }
          },
          "metadata": {}
        }
      ]
    },
    {
      "cell_type": "code",
      "source": [
        " smote = SMOTE(random_state=42)"
      ],
      "metadata": {
        "id": "OnRrdquL9Av3"
      },
      "execution_count": null,
      "outputs": []
    },
    {
      "cell_type": "code",
      "source": [
        "x = df_novo.drop('Status', axis= 1)\n",
        "y = df_novo['Status']"
      ],
      "metadata": {
        "id": "FXHlh6ub9a5i"
      },
      "execution_count": null,
      "outputs": []
    },
    {
      "cell_type": "code",
      "source": [
        "x_resampled , y_resampled = smote.fit_resample(x,y)"
      ],
      "metadata": {
        "id": "5tCeskT29a8m"
      },
      "execution_count": null,
      "outputs": []
    },
    {
      "cell_type": "code",
      "source": [
        "df_balanced =  pd.concat([y_resampled , x_resampled], axis= 1)"
      ],
      "metadata": {
        "id": "-cSNNOEy9bAm"
      },
      "execution_count": null,
      "outputs": []
    },
    {
      "cell_type": "code",
      "source": [
        "df_balanced.head()"
      ],
      "metadata": {
        "colab": {
          "base_uri": "https://localhost:8080/",
          "height": 285
        },
        "id": "PF5G6vht9bFP",
        "outputId": "eb72ba8e-fd52-4516-e4a5-fd5d17786b17"
      },
      "execution_count": null,
      "outputs": [
        {
          "output_type": "execute_result",
          "data": {
            "text/plain": [
              "   Status  Idade  Raca  Estado Civil  Estagio do Tumor  Estagio do Nodulo  \\\n",
              "0     0.0   38.0   2.0           1.0               0.0                0.0   \n",
              "1     0.0   20.0   2.0           1.0               1.0                1.0   \n",
              "2     0.0   28.0   2.0           0.0               2.0                2.0   \n",
              "3     0.0   28.0   2.0           1.0               0.0                0.0   \n",
              "4     0.0   17.0   2.0           1.0               1.0                0.0   \n",
              "\n",
              "   Estagio do cancer  Diferenciar  Grau  Localizacao  Tamanho do tumor  \\\n",
              "0                0.0          1.0   3.0          1.0               3.0   \n",
              "1                2.0          0.0   2.0          1.0              34.0   \n",
              "2                4.0          0.0   2.0          1.0              62.0   \n",
              "3                0.0          1.0   3.0          1.0              17.0   \n",
              "4                1.0          1.0   3.0          1.0              40.0   \n",
              "\n",
              "   Status do Estrogenio  Status da Progesterona  No regional examidado  \\\n",
              "0                   1.0                     1.0                   23.0   \n",
              "1                   1.0                     1.0                   13.0   \n",
              "2                   1.0                     1.0                   13.0   \n",
              "3                   1.0                     1.0                    1.0   \n",
              "4                   1.0                     1.0                    2.0   \n",
              "\n",
              "   No Reginoal Positivo  Meses de Sobrevivencia  \n",
              "0                   0.0                    59.0  \n",
              "1                   4.0                    61.0  \n",
              "2                   6.0                    74.0  \n",
              "3                   0.0                    83.0  \n",
              "4                   0.0                    49.0  "
            ],
            "text/html": [
              "\n",
              "  <div id=\"df-703ff367-cf37-4d69-bd43-e94859a781b3\">\n",
              "    <div class=\"colab-df-container\">\n",
              "      <div>\n",
              "<style scoped>\n",
              "    .dataframe tbody tr th:only-of-type {\n",
              "        vertical-align: middle;\n",
              "    }\n",
              "\n",
              "    .dataframe tbody tr th {\n",
              "        vertical-align: top;\n",
              "    }\n",
              "\n",
              "    .dataframe thead th {\n",
              "        text-align: right;\n",
              "    }\n",
              "</style>\n",
              "<table border=\"1\" class=\"dataframe\">\n",
              "  <thead>\n",
              "    <tr style=\"text-align: right;\">\n",
              "      <th></th>\n",
              "      <th>Status</th>\n",
              "      <th>Idade</th>\n",
              "      <th>Raca</th>\n",
              "      <th>Estado Civil</th>\n",
              "      <th>Estagio do Tumor</th>\n",
              "      <th>Estagio do Nodulo</th>\n",
              "      <th>Estagio do cancer</th>\n",
              "      <th>Diferenciar</th>\n",
              "      <th>Grau</th>\n",
              "      <th>Localizacao</th>\n",
              "      <th>Tamanho do tumor</th>\n",
              "      <th>Status do Estrogenio</th>\n",
              "      <th>Status da Progesterona</th>\n",
              "      <th>No regional examidado</th>\n",
              "      <th>No Reginoal Positivo</th>\n",
              "      <th>Meses de Sobrevivencia</th>\n",
              "    </tr>\n",
              "  </thead>\n",
              "  <tbody>\n",
              "    <tr>\n",
              "      <th>0</th>\n",
              "      <td>0.0</td>\n",
              "      <td>38.0</td>\n",
              "      <td>2.0</td>\n",
              "      <td>1.0</td>\n",
              "      <td>0.0</td>\n",
              "      <td>0.0</td>\n",
              "      <td>0.0</td>\n",
              "      <td>1.0</td>\n",
              "      <td>3.0</td>\n",
              "      <td>1.0</td>\n",
              "      <td>3.0</td>\n",
              "      <td>1.0</td>\n",
              "      <td>1.0</td>\n",
              "      <td>23.0</td>\n",
              "      <td>0.0</td>\n",
              "      <td>59.0</td>\n",
              "    </tr>\n",
              "    <tr>\n",
              "      <th>1</th>\n",
              "      <td>0.0</td>\n",
              "      <td>20.0</td>\n",
              "      <td>2.0</td>\n",
              "      <td>1.0</td>\n",
              "      <td>1.0</td>\n",
              "      <td>1.0</td>\n",
              "      <td>2.0</td>\n",
              "      <td>0.0</td>\n",
              "      <td>2.0</td>\n",
              "      <td>1.0</td>\n",
              "      <td>34.0</td>\n",
              "      <td>1.0</td>\n",
              "      <td>1.0</td>\n",
              "      <td>13.0</td>\n",
              "      <td>4.0</td>\n",
              "      <td>61.0</td>\n",
              "    </tr>\n",
              "    <tr>\n",
              "      <th>2</th>\n",
              "      <td>0.0</td>\n",
              "      <td>28.0</td>\n",
              "      <td>2.0</td>\n",
              "      <td>0.0</td>\n",
              "      <td>2.0</td>\n",
              "      <td>2.0</td>\n",
              "      <td>4.0</td>\n",
              "      <td>0.0</td>\n",
              "      <td>2.0</td>\n",
              "      <td>1.0</td>\n",
              "      <td>62.0</td>\n",
              "      <td>1.0</td>\n",
              "      <td>1.0</td>\n",
              "      <td>13.0</td>\n",
              "      <td>6.0</td>\n",
              "      <td>74.0</td>\n",
              "    </tr>\n",
              "    <tr>\n",
              "      <th>3</th>\n",
              "      <td>0.0</td>\n",
              "      <td>28.0</td>\n",
              "      <td>2.0</td>\n",
              "      <td>1.0</td>\n",
              "      <td>0.0</td>\n",
              "      <td>0.0</td>\n",
              "      <td>0.0</td>\n",
              "      <td>1.0</td>\n",
              "      <td>3.0</td>\n",
              "      <td>1.0</td>\n",
              "      <td>17.0</td>\n",
              "      <td>1.0</td>\n",
              "      <td>1.0</td>\n",
              "      <td>1.0</td>\n",
              "      <td>0.0</td>\n",
              "      <td>83.0</td>\n",
              "    </tr>\n",
              "    <tr>\n",
              "      <th>4</th>\n",
              "      <td>0.0</td>\n",
              "      <td>17.0</td>\n",
              "      <td>2.0</td>\n",
              "      <td>1.0</td>\n",
              "      <td>1.0</td>\n",
              "      <td>0.0</td>\n",
              "      <td>1.0</td>\n",
              "      <td>1.0</td>\n",
              "      <td>3.0</td>\n",
              "      <td>1.0</td>\n",
              "      <td>40.0</td>\n",
              "      <td>1.0</td>\n",
              "      <td>1.0</td>\n",
              "      <td>2.0</td>\n",
              "      <td>0.0</td>\n",
              "      <td>49.0</td>\n",
              "    </tr>\n",
              "  </tbody>\n",
              "</table>\n",
              "</div>\n",
              "      <button class=\"colab-df-convert\" onclick=\"convertToInteractive('df-703ff367-cf37-4d69-bd43-e94859a781b3')\"\n",
              "              title=\"Convert this dataframe to an interactive table.\"\n",
              "              style=\"display:none;\">\n",
              "        \n",
              "  <svg xmlns=\"http://www.w3.org/2000/svg\" height=\"24px\"viewBox=\"0 0 24 24\"\n",
              "       width=\"24px\">\n",
              "    <path d=\"M0 0h24v24H0V0z\" fill=\"none\"/>\n",
              "    <path d=\"M18.56 5.44l.94 2.06.94-2.06 2.06-.94-2.06-.94-.94-2.06-.94 2.06-2.06.94zm-11 1L8.5 8.5l.94-2.06 2.06-.94-2.06-.94L8.5 2.5l-.94 2.06-2.06.94zm10 10l.94 2.06.94-2.06 2.06-.94-2.06-.94-.94-2.06-.94 2.06-2.06.94z\"/><path d=\"M17.41 7.96l-1.37-1.37c-.4-.4-.92-.59-1.43-.59-.52 0-1.04.2-1.43.59L10.3 9.45l-7.72 7.72c-.78.78-.78 2.05 0 2.83L4 21.41c.39.39.9.59 1.41.59.51 0 1.02-.2 1.41-.59l7.78-7.78 2.81-2.81c.8-.78.8-2.07 0-2.86zM5.41 20L4 18.59l7.72-7.72 1.47 1.35L5.41 20z\"/>\n",
              "  </svg>\n",
              "      </button>\n",
              "      \n",
              "  <style>\n",
              "    .colab-df-container {\n",
              "      display:flex;\n",
              "      flex-wrap:wrap;\n",
              "      gap: 12px;\n",
              "    }\n",
              "\n",
              "    .colab-df-convert {\n",
              "      background-color: #E8F0FE;\n",
              "      border: none;\n",
              "      border-radius: 50%;\n",
              "      cursor: pointer;\n",
              "      display: none;\n",
              "      fill: #1967D2;\n",
              "      height: 32px;\n",
              "      padding: 0 0 0 0;\n",
              "      width: 32px;\n",
              "    }\n",
              "\n",
              "    .colab-df-convert:hover {\n",
              "      background-color: #E2EBFA;\n",
              "      box-shadow: 0px 1px 2px rgba(60, 64, 67, 0.3), 0px 1px 3px 1px rgba(60, 64, 67, 0.15);\n",
              "      fill: #174EA6;\n",
              "    }\n",
              "\n",
              "    [theme=dark] .colab-df-convert {\n",
              "      background-color: #3B4455;\n",
              "      fill: #D2E3FC;\n",
              "    }\n",
              "\n",
              "    [theme=dark] .colab-df-convert:hover {\n",
              "      background-color: #434B5C;\n",
              "      box-shadow: 0px 1px 3px 1px rgba(0, 0, 0, 0.15);\n",
              "      filter: drop-shadow(0px 1px 2px rgba(0, 0, 0, 0.3));\n",
              "      fill: #FFFFFF;\n",
              "    }\n",
              "  </style>\n",
              "\n",
              "      <script>\n",
              "        const buttonEl =\n",
              "          document.querySelector('#df-703ff367-cf37-4d69-bd43-e94859a781b3 button.colab-df-convert');\n",
              "        buttonEl.style.display =\n",
              "          google.colab.kernel.accessAllowed ? 'block' : 'none';\n",
              "\n",
              "        async function convertToInteractive(key) {\n",
              "          const element = document.querySelector('#df-703ff367-cf37-4d69-bd43-e94859a781b3');\n",
              "          const dataTable =\n",
              "            await google.colab.kernel.invokeFunction('convertToInteractive',\n",
              "                                                     [key], {});\n",
              "          if (!dataTable) return;\n",
              "\n",
              "          const docLinkHtml = 'Like what you see? Visit the ' +\n",
              "            '<a target=\"_blank\" href=https://colab.research.google.com/notebooks/data_table.ipynb>data table notebook</a>'\n",
              "            + ' to learn more about interactive tables.';\n",
              "          element.innerHTML = '';\n",
              "          dataTable['output_type'] = 'display_data';\n",
              "          await google.colab.output.renderOutput(dataTable, element);\n",
              "          const docLink = document.createElement('div');\n",
              "          docLink.innerHTML = docLinkHtml;\n",
              "          element.appendChild(docLink);\n",
              "        }\n",
              "      </script>\n",
              "    </div>\n",
              "  </div>\n",
              "  "
            ]
          },
          "metadata": {},
          "execution_count": 74
        }
      ]
    },
    {
      "cell_type": "code",
      "source": [
        "df_balanced.groupby('Status').Idade.count()"
      ],
      "metadata": {
        "colab": {
          "base_uri": "https://localhost:8080/"
        },
        "id": "xqc5RfQR9Aze",
        "outputId": "cbe8e165-89dc-48a2-fb53-0e368081307b"
      },
      "execution_count": null,
      "outputs": [
        {
          "output_type": "execute_result",
          "data": {
            "text/plain": [
              "Status\n",
              "0.0    3407\n",
              "1.0    3407\n",
              "Name: Idade, dtype: int64"
            ]
          },
          "metadata": {},
          "execution_count": 75
        }
      ]
    },
    {
      "cell_type": "markdown",
      "source": [
        "# Agora veremos os algoritmos após o balanceamento"
      ],
      "metadata": {
        "id": "5xhXyca39s9R"
      }
    },
    {
      "cell_type": "code",
      "source": [
        "y = df_balanced['Status']\n",
        "x = df_balanced.drop(columns='Status')"
      ],
      "metadata": {
        "id": "Wm9hI-Ui9m8Z"
      },
      "execution_count": null,
      "outputs": []
    },
    {
      "cell_type": "code",
      "source": [
        "x_train,x_test,y_train,y_test =train_test_split(x, y , test_size = 0.3 , random_state =157)"
      ],
      "metadata": {
        "id": "Pmonnaid9m_h"
      },
      "execution_count": null,
      "outputs": []
    },
    {
      "cell_type": "code",
      "source": [
        "guaussi(x_train,y_train ,x_test)"
      ],
      "metadata": {
        "colab": {
          "base_uri": "https://localhost:8080/"
        },
        "id": "9TT3p2bR947C",
        "outputId": "195e5677-2c15-47a9-b427-443f40e405b4"
      },
      "execution_count": null,
      "outputs": [
        {
          "output_type": "stream",
          "name": "stdout",
          "text": [
            "              precision    recall  f1-score   support\n",
            "\n",
            "         0.0       0.68      0.82      0.74      1047\n",
            "         1.0       0.76      0.59      0.66       998\n",
            "\n",
            "    accuracy                           0.71      2045\n",
            "   macro avg       0.72      0.71      0.70      2045\n",
            "weighted avg       0.72      0.71      0.70      2045\n",
            "\n"
          ]
        }
      ]
    },
    {
      "cell_type": "code",
      "source": [
        "RandomForest(x_train,y_train,x_test)"
      ],
      "metadata": {
        "colab": {
          "base_uri": "https://localhost:8080/"
        },
        "id": "Iduh8_2d94-G",
        "outputId": "c1ba6242-ad27-41d1-a10e-24e5b85f0c5f"
      },
      "execution_count": null,
      "outputs": [
        {
          "output_type": "stream",
          "name": "stdout",
          "text": [
            "              precision    recall  f1-score   support\n",
            "\n",
            "         0.0       0.92      0.97      0.94      1047\n",
            "         1.0       0.96      0.91      0.94       998\n",
            "\n",
            "    accuracy                           0.94      2045\n",
            "   macro avg       0.94      0.94      0.94      2045\n",
            "weighted avg       0.94      0.94      0.94      2045\n",
            "\n"
          ]
        }
      ]
    },
    {
      "cell_type": "code",
      "source": [
        "Logistic(x_train,y_train,x_test)"
      ],
      "metadata": {
        "colab": {
          "base_uri": "https://localhost:8080/"
        },
        "id": "NM9sc-VO95A6",
        "outputId": "e27c63c9-f17f-43b8-a8ac-77293da411d9"
      },
      "execution_count": null,
      "outputs": [
        {
          "output_type": "stream",
          "name": "stdout",
          "text": [
            "              precision    recall  f1-score   support\n",
            "\n",
            "         0.0       0.78      0.81      0.80      1047\n",
            "         1.0       0.80      0.77      0.78       998\n",
            "\n",
            "    accuracy                           0.79      2045\n",
            "   macro avg       0.79      0.79      0.79      2045\n",
            "weighted avg       0.79      0.79      0.79      2045\n",
            "\n"
          ]
        },
        {
          "output_type": "stream",
          "name": "stderr",
          "text": [
            "/usr/local/lib/python3.7/dist-packages/sklearn/linear_model/_logistic.py:818: ConvergenceWarning: lbfgs failed to converge (status=1):\n",
            "STOP: TOTAL NO. of ITERATIONS REACHED LIMIT.\n",
            "\n",
            "Increase the number of iterations (max_iter) or scale the data as shown in:\n",
            "    https://scikit-learn.org/stable/modules/preprocessing.html\n",
            "Please also refer to the documentation for alternative solver options:\n",
            "    https://scikit-learn.org/stable/modules/linear_model.html#logistic-regression\n",
            "  extra_warning_msg=_LOGISTIC_SOLVER_CONVERGENCE_MSG,\n"
          ]
        }
      ]
    },
    {
      "cell_type": "code",
      "source": [
        "Dummy(x_train,y_train,x_test)"
      ],
      "metadata": {
        "colab": {
          "base_uri": "https://localhost:8080/"
        },
        "id": "KdE4Gfk_-NIh",
        "outputId": "c1b1cada-d44b-4329-ef56-3bcff3b63572"
      },
      "execution_count": null,
      "outputs": [
        {
          "output_type": "stream",
          "name": "stdout",
          "text": [
            "              precision    recall  f1-score   support\n",
            "\n",
            "         0.0       0.00      0.00      0.00      1047\n",
            "         1.0       0.49      1.00      0.66       998\n",
            "\n",
            "    accuracy                           0.49      2045\n",
            "   macro avg       0.24      0.50      0.33      2045\n",
            "weighted avg       0.24      0.49      0.32      2045\n",
            "\n"
          ]
        },
        {
          "output_type": "stream",
          "name": "stderr",
          "text": [
            "/usr/local/lib/python3.7/dist-packages/sklearn/metrics/_classification.py:1318: UndefinedMetricWarning: Precision and F-score are ill-defined and being set to 0.0 in labels with no predicted samples. Use `zero_division` parameter to control this behavior.\n",
            "  _warn_prf(average, modifier, msg_start, len(result))\n",
            "/usr/local/lib/python3.7/dist-packages/sklearn/metrics/_classification.py:1318: UndefinedMetricWarning: Precision and F-score are ill-defined and being set to 0.0 in labels with no predicted samples. Use `zero_division` parameter to control this behavior.\n",
            "  _warn_prf(average, modifier, msg_start, len(result))\n",
            "/usr/local/lib/python3.7/dist-packages/sklearn/metrics/_classification.py:1318: UndefinedMetricWarning: Precision and F-score are ill-defined and being set to 0.0 in labels with no predicted samples. Use `zero_division` parameter to control this behavior.\n",
            "  _warn_prf(average, modifier, msg_start, len(result))\n"
          ]
        }
      ]
    },
    {
      "cell_type": "code",
      "source": [],
      "metadata": {
        "id": "yWCBxTwI9nCe"
      },
      "execution_count": null,
      "outputs": []
    },
    {
      "cell_type": "markdown",
      "source": [
        "# Comparando os resultados entre os algoritmos"
      ],
      "metadata": {
        "id": "aAnfrYQaKd0J"
      }
    },
    {
      "cell_type": "markdown",
      "source": [
        "### Comparando a Acurácia entre os modelos"
      ],
      "metadata": {
        "id": "Kmay46pXLoKP"
      }
    },
    {
      "cell_type": "code",
      "source": [
        "fig = plt.figure(figsize=(8, 6))\n",
        "ax = fig.add_axes([0,0,1,1])\n",
        "ax.set_title('Gráfico das acurácias entre os três métodos de machine learning- Treinamento')\n",
        "ax.set_ylabel('% de acurácia')\n",
        "ax.set_xlabel('Métodos')\n",
        "ax.set_ylim(0.0, 100.0)\n",
        "met = ['Gaussian', 'Randon Forest', 'Logistic Regression']\n",
        "resul = [acc_GNB*100, acc_RFC*100, acc_LR*100]\n",
        "ax.bar(met,resul, width=0.30)\n",
        "\n",
        "plt.show()"
      ],
      "metadata": {
        "colab": {
          "base_uri": "https://localhost:8080/",
          "height": 510
        },
        "id": "cB-sHzVNKmuB",
        "outputId": "4fc897b3-40cf-4d86-d941-27f3f8c1c9cc"
      },
      "execution_count": null,
      "outputs": [
        {
          "output_type": "display_data",
          "data": {
            "text/plain": [
              "<Figure size 576x432 with 1 Axes>"
            ],
            "image/png": "[encoded data removed]"
          },
          "metadata": {
            "needs_background": "light"
          }
        }
      ]
    },
    {
      "cell_type": "markdown",
      "source": [
        "Preparando variáveis para gerar gráfico"
      ],
      "metadata": {
        "id": "LVPKVSdn8KaS"
      }
    },
    {
      "cell_type": "code",
      "source": [
        "acc= [acc_GNB,acc_RFC,acc_LR]\n",
        "ps= [ps_GNB,ps_RF,ps_LR]\n",
        "rc= [rc_GNB,rc_RF, rc_LR]\n",
        "f1_score= [f1_score_GNB, f1_score_RF, f1_score_LR]\n",
        "labels= ['Gaussian', 'Randon Forest', 'Logist Regression']"
      ],
      "metadata": {
        "id": "t9XwsZCHV-tV"
      },
      "execution_count": null,
      "outputs": []
    },
    {
      "cell_type": "markdown",
      "source": [
        "### Comparando todas as métricas no mesmo gráfico de forma empilhada"
      ],
      "metadata": {
        "id": "6kq7sHovARKw"
      }
    },
    {
      "cell_type": "code",
      "source": [
        "#Acredito que não seja adequado este gráfico\n",
        "data_frme = pd.DataFrame({\n",
        "  \"Acurácia\": acc,\n",
        "  \"Precisão\": ps,\n",
        "  \"Revocação\": rc,\n",
        "  \"F1_Score\": f1_score,\n",
        "},\n",
        "    \n",
        "  index= (labels),\n",
        "  \n",
        ")\n",
        "print(\"Resultados\")\n",
        "print(data_frme)\n",
        "print()\n",
        "plt.rcParams['figure.figsize'] = (15,8)\n",
        "plt.savefig(\"data_frme.png\")\n",
        "\n",
        "data_frme.plot.bar(rot=0, stacked=True)\n",
        "#plt.grid(b=None)\n",
        "\n",
        "plt.show()"
      ],
      "metadata": {
        "colab": {
          "base_uri": "https://localhost:8080/",
          "height": 605
        },
        "id": "xK_UtiN9RG0f",
        "outputId": "0a000dea-cc61-4f17-cc29-679bf8db47f6"
      },
      "execution_count": null,
      "outputs": [
        {
          "output_type": "stream",
          "name": "stdout",
          "text": [
            "Resultados\n",
            "                   Acurácia  Precisão  Revocação  F1_Score\n",
            "Gaussian           0.804474  0.652430   0.684662  0.664883\n",
            "Randon Forest      0.908865  0.864984   0.759500  0.798650\n",
            "Logist Regression  0.898923  0.847787   0.729754  0.770432\n",
            "\n"
          ]
        },
        {
          "output_type": "display_data",
          "data": {
            "text/plain": [
              "<Figure size 1080x576 with 0 Axes>"
            ]
          },
          "metadata": {}
        },
        {
          "output_type": "display_data",
          "data": {
            "text/plain": [
              "<Figure size 1080x576 with 1 Axes>"
            ],
            "image/png": "[encoded data removed]"
          },
          "metadata": {
            "needs_background": "light"
          }
        }
      ]
    },
    {
      "cell_type": "markdown",
      "source": [
        "### Comparando todas as métricas no mesmo gráfico na forma de barra agrupada"
      ],
      "metadata": {
        "id": "eoUvA8DyAljj"
      }
    },
    {
      "cell_type": "code",
      "source": [
        "#Copiei este gráfico do template, não sei se pode. Modifiquei só o nome e um parâmetro pra retirar linha de grade. \n",
        "df = pd.DataFrame({\"Accuracy\": acc\n",
        "                       ,\"F1\": f1_score\n",
        "                       ,\"Precision\": ps \n",
        "                        ,\"Recall\": rc}  \n",
        "                       ,index=labels)\n",
        "\n",
        "ax = df.plot.bar(figsize=(10, 8))\n",
        "ax.set_ylabel('% de acurácia')\n",
        "ax.set_title('Gráfico Cross validation - treinamento')\n",
        "plt.show()\n",
        "\n"
      ],
      "metadata": {
        "colab": {
          "base_uri": "https://localhost:8080/",
          "height": 576
        },
        "id": "ZWuVdTBxWcv0",
        "outputId": "fdf928a2-5085-4370-c19f-f11a0cc73573"
      },
      "execution_count": null,
      "outputs": [
        {
          "output_type": "display_data",
          "data": {
            "text/plain": [
              "<Figure size 720x576 with 1 Axes>"
            ],
            "image/png": "[encoded data removed]"
          },
          "metadata": {
            "needs_background": "light"
          }
        }
      ]
    },
    {
      "cell_type": "markdown",
      "source": [
        "## Qual modelo está performando melhor em 70% da base de dados? O Randon Forest apresenta um maior acurácia, precisão, revocação e F1_Score entre todos os modelos. Agora iremos aplicar no test de 30% que foi separado no início do projeto"
      ],
      "metadata": {
        "id": "gK6OG4fd_5s3"
      }
    },
    {
      "cell_type": "code",
      "source": [
        "from sklearn.ensemble import RandomForestClassifier"
      ],
      "metadata": {
        "id": "vsMDSL0RKKk3"
      },
      "execution_count": null,
      "outputs": []
    },
    {
      "cell_type": "code",
      "source": [
        "modelo_v2 = RandomForestClassifier(random_state = 42)\n",
        "modelo_v2.fit(x_train, y_train.ravel())"
      ],
      "metadata": {
        "colab": {
          "base_uri": "https://localhost:8080/"
        },
        "id": "ARZqiYZVKQbc",
        "outputId": "ae99d692-1786-41f1-b0ba-73e89eaacd02"
      },
      "execution_count": null,
      "outputs": [
        {
          "output_type": "execute_result",
          "data": {
            "text/plain": [
              "RandomForestClassifier(random_state=42)"
            ]
          },
          "metadata": {},
          "execution_count": 111
        }
      ]
    },
    {
      "cell_type": "code",
      "source": [
        "# Verificando os dados de treino\n",
        "rf_predict_train = modelo_v2.predict(x_train)\n",
        "print(\"Exatidão (Accuracy): {0:.4f}\".format(metrics.accuracy_score(y_train, rf_predict_train)))"
      ],
      "metadata": {
        "colab": {
          "base_uri": "https://localhost:8080/"
        },
        "id": "R3eeCRMlLFXg",
        "outputId": "bc4638d8-c632-47be-dd8d-5f2e5b278f60"
      },
      "execution_count": null,
      "outputs": [
        {
          "output_type": "stream",
          "name": "stdout",
          "text": [
            "Exatidão (Accuracy): 1.0000\n"
          ]
        }
      ]
    },
    {
      "cell_type": "code",
      "source": [
        "# Verificando nos dados de teste\n",
        "rf_predict_test = modelo_v2.predict(x_test)\n",
        "print(\"Exatidão (Accuracy): {0:.4f}\".format(metrics.accuracy_score(y_test, rf_predict_test)))\n",
        "print()"
      ],
      "metadata": {
        "colab": {
          "base_uri": "https://localhost:8080/"
        },
        "id": "cdUMwOotLkNQ",
        "outputId": "0c4be91f-3957-4307-e18d-06a5c976f4f8"
      },
      "execution_count": null,
      "outputs": [
        {
          "output_type": "stream",
          "name": "stdout",
          "text": [
            "Exatidão (Accuracy): 0.9105\n",
            "\n"
          ]
        }
      ]
    },
    {
      "cell_type": "code",
      "source": [
        "print(\"Confusion Matrix\")\n",
        "\n",
        "print(\"{0}\".format(metrics.confusion_matrix(y_test, rf_predict_test, labels = [1, 0])))\n",
        "print(\"\")\n",
        "\n",
        "print(\"Classification Report\")\n",
        "print(metrics.classification_report(y_test, rf_predict_test, labels = [1, 0]))"
      ],
      "metadata": {
        "colab": {
          "base_uri": "https://localhost:8080/"
        },
        "id": "5BDuNlkpMWV0",
        "outputId": "87efd6a0-5f22-4593-9982-d894b1375192"
      },
      "execution_count": null,
      "outputs": [
        {
          "output_type": "stream",
          "name": "stdout",
          "text": [
            "Confusion Matrix\n",
            "[[102  86]\n",
            " [ 22 997]]\n",
            "\n",
            "Classification Report\n",
            "              precision    recall  f1-score   support\n",
            "\n",
            "           1       0.82      0.54      0.65       188\n",
            "           0       0.92      0.98      0.95      1019\n",
            "\n",
            "    accuracy                           0.91      1207\n",
            "   macro avg       0.87      0.76      0.80      1207\n",
            "weighted avg       0.91      0.91      0.90      1207\n",
            "\n"
          ]
        }
      ]
    },
    {
      "cell_type": "code",
      "source": [
        "df.shape"
      ],
      "metadata": {
        "colab": {
          "base_uri": "https://localhost:8080/"
        },
        "id": "MM_2EBjUnB3f",
        "outputId": "857132e0-2593-4068-b771-2c5c80f8bca8"
      },
      "execution_count": null,
      "outputs": [
        {
          "output_type": "execute_result",
          "data": {
            "text/plain": [
              "(3, 4)"
            ]
          },
          "metadata": {},
          "execution_count": 175
        }
      ]
    },
    {
      "cell_type": "code",
      "source": [
        "df_novo.isna().sum()"
      ],
      "metadata": {
        "colab": {
          "base_uri": "https://localhost:8080/"
        },
        "id": "TJm2UYQtqaXd",
        "outputId": "2dd0c245-f5a0-4518-8844-a2331b13d60a"
      },
      "execution_count": null,
      "outputs": [
        {
          "output_type": "execute_result",
          "data": {
            "text/plain": [
              "Idade                     0\n",
              "Raca                      0\n",
              "Estado Civil              0\n",
              "Estagio do Tumor          0\n",
              "Estagio do Nodulo         0\n",
              "Estagio do cancer         0\n",
              "Diferenciar               0\n",
              "Grau                      0\n",
              "Localizacao               0\n",
              "Tamanho do tumor          0\n",
              "Status do Estrogenio      0\n",
              "Status da Progesterona    0\n",
              "No regional examidado     0\n",
              "No Reginoal Positivo      0\n",
              "Meses de Sobrevivencia    0\n",
              "Status                    0\n",
              "dtype: int64"
            ]
          },
          "metadata": {},
          "execution_count": 176
        }
      ]
    },
    {
      "cell_type": "code",
      "source": [
        "columns =['Idade','Raca','Estado Civil','Estagio do Tumor','Estagio do Nodulo','Estagio do cancer','Diferenciar','Grau','Localizacao','Tamanho do tumor','Status do Estrogenio','Status da Progesterona','No regional examidado','No Reginoal Positivo','Meses de Sobrevivencia','Status']"
      ],
      "metadata": {
        "id": "Zlk6hoGmqsks"
      },
      "execution_count": null,
      "outputs": []
    },
    {
      "cell_type": "code",
      "source": [
        "x = df_novo.drop(columns='Status')\n",
        "y = df_novo['Status']"
      ],
      "metadata": {
        "id": "c3HfDbyouKRj"
      },
      "execution_count": null,
      "outputs": []
    },
    {
      "cell_type": "code",
      "source": [
        "x_train,x_test,y_train,y_test =train_test_split(x, y , test_size = 0.3 , random_state =157)"
      ],
      "metadata": {
        "id": "5UGn-c1GhGuL"
      },
      "execution_count": null,
      "outputs": []
    },
    {
      "cell_type": "code",
      "source": [
        "modelo = RandomForestClassifier(n_estimators= 100,n_jobs=1,random_state=0)"
      ],
      "metadata": {
        "id": "BwqOymTpi_Lp"
      },
      "execution_count": null,
      "outputs": []
    },
    {
      "cell_type": "code",
      "source": [
        "modelo.fit(x_train,y_train)"
      ],
      "metadata": {
        "colab": {
          "base_uri": "https://localhost:8080/"
        },
        "id": "61KnZENpjmV0",
        "outputId": "fa042b4f-c18b-40fc-bf86-eca5c8688d1b"
      },
      "execution_count": null,
      "outputs": [
        {
          "output_type": "execute_result",
          "data": {
            "text/plain": [
              "RandomForestClassifier(n_jobs=1, random_state=0)"
            ]
          },
          "metadata": {},
          "execution_count": 192
        }
      ]
    },
    {
      "cell_type": "code",
      "source": [
        "y_pred = modelo.predict(x_test)"
      ],
      "metadata": {
        "id": "Dq2-3i1xkClA"
      },
      "execution_count": null,
      "outputs": []
    },
    {
      "cell_type": "code",
      "source": [
        "from sklearn.metrics import accuracy_score"
      ],
      "metadata": {
        "id": "ljZRvgEKmIAe"
      },
      "execution_count": null,
      "outputs": []
    },
    {
      "cell_type": "code",
      "source": [
        "accuracy_score,\n",
        "print('Acuracia:', accuracy_score ( y_test, y_pred)*100)"
      ],
      "metadata": {
        "colab": {
          "base_uri": "https://localhost:8080/"
        },
        "id": "e4v1Cq5pkSpY",
        "outputId": "a8b3200e-f58e-42c0-ffed-0362c1ae652b"
      },
      "execution_count": null,
      "outputs": [
        {
          "output_type": "stream",
          "name": "stdout",
          "text": [
            "Acuracia: 91.21789560894781\n"
          ]
        }
      ]
    },
    {
      "cell_type": "code",
      "source": [
        "RandomForest(x_train,y_train,x_test)"
      ],
      "metadata": {
        "colab": {
          "base_uri": "https://localhost:8080/"
        },
        "id": "Prl1DFNPppGV",
        "outputId": "3686c2fb-21cd-4c91-9c53-7cb13cd3f4e8"
      },
      "execution_count": null,
      "outputs": [
        {
          "output_type": "stream",
          "name": "stdout",
          "text": [
            "              precision    recall  f1-score   support\n",
            "\n",
            "         0.0       0.92      0.98      0.95      1019\n",
            "         1.0       0.83      0.55      0.66       188\n",
            "\n",
            "    accuracy                           0.91      1207\n",
            "   macro avg       0.88      0.77      0.81      1207\n",
            "weighted avg       0.91      0.91      0.91      1207\n",
            "\n"
          ]
        }
      ]
    }
  ]
}